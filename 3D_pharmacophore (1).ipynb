{
  "nbformat": 4,
  "nbformat_minor": 0,
  "metadata": {
    "colab": {
      "provenance": []
    },
    "kernelspec": {
      "name": "python3",
      "display_name": "Python 3"
    },
    "language_info": {
      "name": "python"
    }
  },
  "cells": [
    {
      "cell_type": "code",
      "source": [
        "!pip install pmapper"
      ],
      "metadata": {
        "colab": {
          "base_uri": "https://localhost:8080/"
        },
        "id": "11UbGjTgqOYi",
        "outputId": "2a638c6a-d685-4c59-d26a-f6b44edc620a"
      },
      "execution_count": null,
      "outputs": [
        {
          "output_type": "stream",
          "name": "stdout",
          "text": [
            "Collecting pmapper\n",
            "  Downloading pmapper-1.0.4-py3-none-any.whl (567 kB)\n",
            "\u001b[2K     \u001b[90m━━━━━━━━━━━━━━━━━━━━━━━━━━━━━━━━━━━━━━━━\u001b[0m \u001b[32m567.3/567.3 kB\u001b[0m \u001b[31m5.1 MB/s\u001b[0m eta \u001b[36m0:00:00\u001b[0m\n",
            "\u001b[?25hRequirement already satisfied: networkx>=2 in /usr/local/lib/python3.10/dist-packages (from pmapper) (3.2.1)\n",
            "Installing collected packages: pmapper\n",
            "Successfully installed pmapper-1.0.4\n"
          ]
        }
      ]
    },
    {
      "cell_type": "code",
      "source": [
        "!pip install rdkit"
      ],
      "metadata": {
        "colab": {
          "base_uri": "https://localhost:8080/"
        },
        "id": "LC9M3JPhqX31",
        "outputId": "6cabbf15-521d-4e32-9ea4-98b0d9842242"
      },
      "execution_count": null,
      "outputs": [
        {
          "output_type": "stream",
          "name": "stdout",
          "text": [
            "Collecting rdkit\n",
            "  Downloading rdkit-2023.9.5-cp310-cp310-manylinux_2_17_x86_64.manylinux2014_x86_64.whl (34.4 MB)\n",
            "\u001b[2K     \u001b[90m━━━━━━━━━━━━━━━━━━━━━━━━━━━━━━━━━━━━━━━━\u001b[0m \u001b[32m34.4/34.4 MB\u001b[0m \u001b[31m26.7 MB/s\u001b[0m eta \u001b[36m0:00:00\u001b[0m\n",
            "\u001b[?25hRequirement already satisfied: numpy in /usr/local/lib/python3.10/dist-packages (from rdkit) (1.25.2)\n",
            "Requirement already satisfied: Pillow in /usr/local/lib/python3.10/dist-packages (from rdkit) (9.4.0)\n",
            "Installing collected packages: rdkit\n",
            "Successfully installed rdkit-2023.9.5\n"
          ]
        }
      ]
    },
    {
      "cell_type": "code",
      "source": [
        "!pip install streamlit"
      ],
      "metadata": {
        "colab": {
          "base_uri": "https://localhost:8080/"
        },
        "id": "JHq0rbMCR97N",
        "outputId": "712b617e-5b23-4233-d1b1-a60e25c48561"
      },
      "execution_count": null,
      "outputs": [
        {
          "output_type": "stream",
          "name": "stdout",
          "text": [
            "Collecting streamlit\n",
            "  Downloading streamlit-1.33.0-py2.py3-none-any.whl (8.1 MB)\n",
            "\u001b[2K     \u001b[90m━━━━━━━━━━━━━━━━━━━━━━━━━━━━━━━━━━━━━━━━\u001b[0m \u001b[32m8.1/8.1 MB\u001b[0m \u001b[31m20.1 MB/s\u001b[0m eta \u001b[36m0:00:00\u001b[0m\n",
            "\u001b[?25hRequirement already satisfied: altair<6,>=4.0 in /usr/local/lib/python3.10/dist-packages (from streamlit) (4.2.2)\n",
            "Requirement already satisfied: blinker<2,>=1.0.0 in /usr/lib/python3/dist-packages (from streamlit) (1.4)\n",
            "Requirement already satisfied: cachetools<6,>=4.0 in /usr/local/lib/python3.10/dist-packages (from streamlit) (5.3.3)\n",
            "Requirement already satisfied: click<9,>=7.0 in /usr/local/lib/python3.10/dist-packages (from streamlit) (8.1.7)\n",
            "Requirement already satisfied: numpy<2,>=1.19.3 in /usr/local/lib/python3.10/dist-packages (from streamlit) (1.25.2)\n",
            "Requirement already satisfied: packaging<25,>=16.8 in /usr/local/lib/python3.10/dist-packages (from streamlit) (24.0)\n",
            "Requirement already satisfied: pandas<3,>=1.3.0 in /usr/local/lib/python3.10/dist-packages (from streamlit) (2.0.3)\n",
            "Requirement already satisfied: pillow<11,>=7.1.0 in /usr/local/lib/python3.10/dist-packages (from streamlit) (9.4.0)\n",
            "Requirement already satisfied: protobuf<5,>=3.20 in /usr/local/lib/python3.10/dist-packages (from streamlit) (3.20.3)\n",
            "Requirement already satisfied: pyarrow>=7.0 in /usr/local/lib/python3.10/dist-packages (from streamlit) (14.0.2)\n",
            "Requirement already satisfied: requests<3,>=2.27 in /usr/local/lib/python3.10/dist-packages (from streamlit) (2.31.0)\n",
            "Requirement already satisfied: rich<14,>=10.14.0 in /usr/local/lib/python3.10/dist-packages (from streamlit) (13.7.1)\n",
            "Requirement already satisfied: tenacity<9,>=8.1.0 in /usr/local/lib/python3.10/dist-packages (from streamlit) (8.2.3)\n",
            "Requirement already satisfied: toml<2,>=0.10.1 in /usr/local/lib/python3.10/dist-packages (from streamlit) (0.10.2)\n",
            "Requirement already satisfied: typing-extensions<5,>=4.3.0 in /usr/local/lib/python3.10/dist-packages (from streamlit) (4.10.0)\n",
            "Collecting gitpython!=3.1.19,<4,>=3.0.7 (from streamlit)\n",
            "  Downloading GitPython-3.1.43-py3-none-any.whl (207 kB)\n",
            "\u001b[2K     \u001b[90m━━━━━━━━━━━━━━━━━━━━━━━━━━━━━━━━━━━━━━━━\u001b[0m \u001b[32m207.3/207.3 kB\u001b[0m \u001b[31m22.7 MB/s\u001b[0m eta \u001b[36m0:00:00\u001b[0m\n",
            "\u001b[?25hCollecting pydeck<1,>=0.8.0b4 (from streamlit)\n",
            "  Downloading pydeck-0.8.1b0-py2.py3-none-any.whl (4.8 MB)\n",
            "\u001b[2K     \u001b[90m━━━━━━━━━━━━━━━━━━━━━━━━━━━━━━━━━━━━━━━━\u001b[0m \u001b[32m4.8/4.8 MB\u001b[0m \u001b[31m49.8 MB/s\u001b[0m eta \u001b[36m0:00:00\u001b[0m\n",
            "\u001b[?25hRequirement already satisfied: tornado<7,>=6.0.3 in /usr/local/lib/python3.10/dist-packages (from streamlit) (6.3.3)\n",
            "Collecting watchdog>=2.1.5 (from streamlit)\n",
            "  Downloading watchdog-4.0.0-py3-none-manylinux2014_x86_64.whl (82 kB)\n",
            "\u001b[2K     \u001b[90m━━━━━━━━━━━━━━━━━━━━━━━━━━━━━━━━━━━━━━━━\u001b[0m \u001b[32m83.0/83.0 kB\u001b[0m \u001b[31m9.3 MB/s\u001b[0m eta \u001b[36m0:00:00\u001b[0m\n",
            "\u001b[?25hRequirement already satisfied: entrypoints in /usr/local/lib/python3.10/dist-packages (from altair<6,>=4.0->streamlit) (0.4)\n",
            "Requirement already satisfied: jinja2 in /usr/local/lib/python3.10/dist-packages (from altair<6,>=4.0->streamlit) (3.1.3)\n",
            "Requirement already satisfied: jsonschema>=3.0 in /usr/local/lib/python3.10/dist-packages (from altair<6,>=4.0->streamlit) (4.19.2)\n",
            "Requirement already satisfied: toolz in /usr/local/lib/python3.10/dist-packages (from altair<6,>=4.0->streamlit) (0.12.1)\n",
            "Collecting gitdb<5,>=4.0.1 (from gitpython!=3.1.19,<4,>=3.0.7->streamlit)\n",
            "  Downloading gitdb-4.0.11-py3-none-any.whl (62 kB)\n",
            "\u001b[2K     \u001b[90m━━━━━━━━━━━━━━━━━━━━━━━━━━━━━━━━━━━━━━━━\u001b[0m \u001b[32m62.7/62.7 kB\u001b[0m \u001b[31m7.9 MB/s\u001b[0m eta \u001b[36m0:00:00\u001b[0m\n",
            "\u001b[?25hRequirement already satisfied: python-dateutil>=2.8.2 in /usr/local/lib/python3.10/dist-packages (from pandas<3,>=1.3.0->streamlit) (2.8.2)\n",
            "Requirement already satisfied: pytz>=2020.1 in /usr/local/lib/python3.10/dist-packages (from pandas<3,>=1.3.0->streamlit) (2023.4)\n",
            "Requirement already satisfied: tzdata>=2022.1 in /usr/local/lib/python3.10/dist-packages (from pandas<3,>=1.3.0->streamlit) (2024.1)\n",
            "Requirement already satisfied: charset-normalizer<4,>=2 in /usr/local/lib/python3.10/dist-packages (from requests<3,>=2.27->streamlit) (3.3.2)\n",
            "Requirement already satisfied: idna<4,>=2.5 in /usr/local/lib/python3.10/dist-packages (from requests<3,>=2.27->streamlit) (3.6)\n",
            "Requirement already satisfied: urllib3<3,>=1.21.1 in /usr/local/lib/python3.10/dist-packages (from requests<3,>=2.27->streamlit) (2.0.7)\n",
            "Requirement already satisfied: certifi>=2017.4.17 in /usr/local/lib/python3.10/dist-packages (from requests<3,>=2.27->streamlit) (2024.2.2)\n",
            "Requirement already satisfied: markdown-it-py>=2.2.0 in /usr/local/lib/python3.10/dist-packages (from rich<14,>=10.14.0->streamlit) (3.0.0)\n",
            "Requirement already satisfied: pygments<3.0.0,>=2.13.0 in /usr/local/lib/python3.10/dist-packages (from rich<14,>=10.14.0->streamlit) (2.16.1)\n",
            "Collecting smmap<6,>=3.0.1 (from gitdb<5,>=4.0.1->gitpython!=3.1.19,<4,>=3.0.7->streamlit)\n",
            "  Downloading smmap-5.0.1-py3-none-any.whl (24 kB)\n",
            "Requirement already satisfied: MarkupSafe>=2.0 in /usr/local/lib/python3.10/dist-packages (from jinja2->altair<6,>=4.0->streamlit) (2.1.5)\n",
            "Requirement already satisfied: attrs>=22.2.0 in /usr/local/lib/python3.10/dist-packages (from jsonschema>=3.0->altair<6,>=4.0->streamlit) (23.2.0)\n",
            "Requirement already satisfied: jsonschema-specifications>=2023.03.6 in /usr/local/lib/python3.10/dist-packages (from jsonschema>=3.0->altair<6,>=4.0->streamlit) (2023.12.1)\n",
            "Requirement already satisfied: referencing>=0.28.4 in /usr/local/lib/python3.10/dist-packages (from jsonschema>=3.0->altair<6,>=4.0->streamlit) (0.34.0)\n",
            "Requirement already satisfied: rpds-py>=0.7.1 in /usr/local/lib/python3.10/dist-packages (from jsonschema>=3.0->altair<6,>=4.0->streamlit) (0.18.0)\n",
            "Requirement already satisfied: mdurl~=0.1 in /usr/local/lib/python3.10/dist-packages (from markdown-it-py>=2.2.0->rich<14,>=10.14.0->streamlit) (0.1.2)\n",
            "Requirement already satisfied: six>=1.5 in /usr/local/lib/python3.10/dist-packages (from python-dateutil>=2.8.2->pandas<3,>=1.3.0->streamlit) (1.16.0)\n",
            "Installing collected packages: watchdog, smmap, pydeck, gitdb, gitpython, streamlit\n",
            "Successfully installed gitdb-4.0.11 gitpython-3.1.43 pydeck-0.8.1b0 smmap-5.0.1 streamlit-1.33.0 watchdog-4.0.0\n"
          ]
        }
      ]
    },
    {
      "cell_type": "code",
      "execution_count": null,
      "metadata": {
        "id": "-7DnGliIpq8O"
      },
      "outputs": [],
      "source": [
        "from pmapper.pharmacophore import Pharmacophore as P\n",
        "from rdkit import Chem\n",
        "from rdkit.Chem import AllChem\n",
        "from rdkit import DataStructs\n",
        "from pprint import pprint"
      ]
    },
    {
      "cell_type": "code",
      "source": [
        "file_path = \"test.smi\"\n",
        "\n",
        "# Open the file in read mode\n",
        "with open(file_path, 'r') as file:\n",
        "    # Read the entire content of the file into a string\n",
        "    file_contents = file.readlines()\n",
        "\n",
        "st=Chem.MolFromSmiles(file_contents[0])\n",
        "ms=[]                     #ms mein MolFromSmiles hai jo m mein the\n",
        "for i in file_contents:\n",
        "  ms.append(Chem.MolFromSmiles(i))"
      ],
      "metadata": {
        "id": "rUPS9mw-qrel"
      },
      "execution_count": null,
      "outputs": []
    },
    {
      "cell_type": "code",
      "source": [
        "# load a molecule from SMILES and generate 3D coordinates\n",
        "mol = Chem.MolFromSmiles('C1CC(=O)NC(=O)C1N2C(=O)C3=CC=CC=C3C2=O')  # talidomide\n",
        "mol = Chem.AddHs(mol)\n",
        "AllChem.EmbedMolecule(mol, randomSeed=42)\n",
        "\n",
        "# create pharmacophore\n",
        "p = P()\n",
        "p.load_from_mol(mol)\n",
        "\n"
      ],
      "metadata": {
        "id": "7MgUchW1p6Df"
      },
      "execution_count": null,
      "outputs": []
    },
    {
      "cell_type": "code",
      "source": [
        "# get 3D pharmacophore signature\n",
        "sig = p.get_signature_md5()\n",
        "print(sig)"
      ],
      "metadata": {
        "id": "CWWJdtibp9EO",
        "colab": {
          "base_uri": "https://localhost:8080/"
        },
        "outputId": "d63c3846-1509-48f1-df18-f651e821c34d"
      },
      "execution_count": null,
      "outputs": [
        {
          "output_type": "stream",
          "name": "stdout",
          "text": [
            "b618dafbd277e360cecf05af6e529aa0\n"
          ]
        }
      ]
    },
    {
      "cell_type": "code",
      "source": [
        "sig = p.get_signature_md5(tol=5)\n",
        "print(sig)"
      ],
      "metadata": {
        "colab": {
          "base_uri": "https://localhost:8080/"
        },
        "id": "FWv9KhsXp-vj",
        "outputId": "4deaab92-0ac5-4182-a8e3-c396ef50c4f1"
      },
      "execution_count": null,
      "outputs": [
        {
          "output_type": "stream",
          "name": "stdout",
          "text": [
            "848841ce86be7ca791e1cfd0ff5a89ed\n"
          ]
        }
      ]
    },
    {
      "cell_type": "code",
      "source": [
        "from pmapper.utils import load_multi_conf_mol\n",
        "\n",
        "# create multiple conformer molecule\n",
        "AllChem.EmbedMultipleConfs(mol, numConfs=10, randomSeed=1024)\n",
        "\n",
        "ps = load_multi_conf_mol(mol)\n",
        "\n",
        "sig = [p.get_signature_md5() for p in ps]\n",
        "\n",
        "pprint(sig)  # identical signatures occur"
      ],
      "metadata": {
        "colab": {
          "base_uri": "https://localhost:8080/"
        },
        "id": "09C3zckbqCLh",
        "outputId": "705f2d4f-299c-498d-d06b-0e749d17374a"
      },
      "execution_count": null,
      "outputs": [
        {
          "output_type": "stream",
          "name": "stdout",
          "text": [
            "['cbe418e9a505118ecfaf21f07458244b',\n",
            " 'f01985bdad09bd61c877ce66f00bc742',\n",
            " 'f455d3cd4928efc3bc02a0b9b7cfb734',\n",
            " '05602aaaf47acec30e23b35a323846a5',\n",
            " 'c11cbb7bcf5d75ed87f53efba52d3378',\n",
            " 'dda56d3fa6a311e373dd2e37a3e62a28',\n",
            " 'c11cbb7bcf5d75ed87f53efba52d3378',\n",
            " '7b894016d496ef95bb3ca5ca2858dc14',\n",
            " '4e28403e551c0580a06330a503f3f355',\n",
            " '158fcd0469c565a43f1a3a0851221175']\n"
          ]
        }
      ]
    },
    {
      "cell_type": "code",
      "source": [
        "from pmapper.utils import get_rms\n",
        "for i in range(len(ps)):\n",
        "    print(\"rmsd bewteen 2 and %i pharmacophore:\" % i, round(get_rms(ps[2], ps[i]), 2))"
      ],
      "metadata": {
        "id": "HXHeFolQqEw_",
        "colab": {
          "base_uri": "https://localhost:8080/"
        },
        "outputId": "7bf98958-90ea-4577-df60-a919af2eee89"
      },
      "execution_count": null,
      "outputs": [
        {
          "output_type": "stream",
          "name": "stdout",
          "text": [
            "rmsd bewteen 2 and 0 pharmacophore: 0.78\n",
            "rmsd bewteen 2 and 1 pharmacophore: 0.09\n",
            "rmsd bewteen 2 and 2 pharmacophore: 0.0\n",
            "rmsd bewteen 2 and 3 pharmacophore: 0.43\n",
            "rmsd bewteen 2 and 4 pharmacophore: 0.6\n",
            "rmsd bewteen 2 and 5 pharmacophore: 0.47\n",
            "rmsd bewteen 2 and 6 pharmacophore: 0.57\n",
            "rmsd bewteen 2 and 7 pharmacophore: 0.53\n",
            "rmsd bewteen 2 and 8 pharmacophore: 0.55\n",
            "rmsd bewteen 2 and 9 pharmacophore: 0.71\n"
          ]
        }
      ]
    },
    {
      "cell_type": "code",
      "source": [
        "q = P()\n",
        "q.load_from_feature_coords([('a', (3.17, -0.23, 0.24)), ('D', (-2.51, -1.28, -1.14))])\n",
        "p.fit_model(q)"
      ],
      "metadata": {
        "id": "vBQ3x2hNqGy5"
      },
      "execution_count": null,
      "outputs": []
    },
    {
      "cell_type": "code",
      "source": [
        "# generate 3D pharmacophore fingerprint which takes into account stereoconfiguration\n",
        "b = p.get_fp(min_features=4, max_features=4)\n",
        "\n",
        "print(b)"
      ],
      "metadata": {
        "id": "CIJW5yaPqIZM",
        "colab": {
          "base_uri": "https://localhost:8080/"
        },
        "outputId": "7b994d0a-e4aa-4c88-d3b7-63cc5f66f70f"
      },
      "execution_count": null,
      "outputs": [
        {
          "output_type": "stream",
          "name": "stdout",
          "text": [
            "{1666, 1415, 521, 1803, 1298, 1811, 1172, 1430, 407, 1815, 1951, 1314, 1198, 197, 70, 71, 584, 1870, 719, 976, 82, 88, 729, 1114, 614, 1128, 1770, 748, 110, 1136, 1009, 118, 249, 1531}\n"
          ]
        }
      ]
    },
    {
      "cell_type": "markdown",
      "source": [
        "finding the similarity between 3d fingerprint"
      ],
      "metadata": {
        "id": "5nvfshOR_E10"
      }
    },
    {
      "cell_type": "code",
      "source": [
        "from rdkit import Chem\n",
        "from rdkit.Chem import AllChem\n",
        "from rdkit.Chem import rdMolDescriptors\n",
        "from rdkit import DataStructs\n",
        "smiles1 = \"N[C@@H](CS)C(O)=O\"\n",
        "mol1 = Chem.MolFromSmiles(smiles1)\n",
        "mol1 = Chem.AddHs(mol1)\n",
        "AllChem.EmbedMolecule(mol1)\n",
        "fp1 = rdMolDescriptors.GetMorganFingerprint(mol1, 2, useFeatures=True)\n",
        "# Example SMILES strings (replace with your SMILES)\n",
        "for i in file_contents:\n",
        "\n",
        "  smiles2 = i\n",
        "\n",
        "  # Generate 3D conformers\n",
        "\n",
        "  mol2 = Chem.MolFromSmiles(smiles2)\n",
        "\n",
        "  mol2 = Chem.AddHs(mol2)\n",
        "\n",
        "  AllChem.EmbedMolecule(mol2)\n",
        "  # Generate 3D Morgan fingerprints from 3D conformers\n",
        "\n",
        "  fp2 = rdMolDescriptors.GetMorganFingerprint(mol2, 2, useFeatures=True)\n",
        "\n",
        "  # Compare fingerprints\n",
        "  similarity = DataStructs.TanimotoSimilarity(fp1, fp2)\n",
        "  print(f\"Tanimoto similarity between 3D conformers: {similarity}\")\n"
      ],
      "metadata": {
        "colab": {
          "base_uri": "https://localhost:8080/",
          "height": 1000
        },
        "id": "Evy9Q_7esJw0",
        "outputId": "90717b60-e822-4909-a37a-85cdba1bac9e"
      },
      "execution_count": null,
      "outputs": [
        {
          "output_type": "stream",
          "name": "stdout",
          "text": [
            "Tanimoto similarity between 3D conformers: 0.09375\n",
            "Tanimoto similarity between 3D conformers: 0.07262569832402235\n",
            "Tanimoto similarity between 3D conformers: 0.07262569832402235\n",
            "Tanimoto similarity between 3D conformers: 0.09090909090909091\n",
            "Tanimoto similarity between 3D conformers: 0.09090909090909091\n",
            "Tanimoto similarity between 3D conformers: 0.1258741258741259\n",
            "Tanimoto similarity between 3D conformers: 0.1258741258741259\n",
            "Tanimoto similarity between 3D conformers: 0.07386363636363637\n",
            "Tanimoto similarity between 3D conformers: 0.07386363636363637\n",
            "Tanimoto similarity between 3D conformers: 0.09420289855072464\n",
            "Tanimoto similarity between 3D conformers: 0.09420289855072464\n",
            "Tanimoto similarity between 3D conformers: 0.09774436090225563\n",
            "Tanimoto similarity between 3D conformers: 0.09774436090225563\n",
            "Tanimoto similarity between 3D conformers: 0.08333333333333333\n",
            "Tanimoto similarity between 3D conformers: 0.08333333333333333\n",
            "Tanimoto similarity between 3D conformers: 0.14173228346456693\n",
            "Tanimoto similarity between 3D conformers: 0.14173228346456693\n",
            "Tanimoto similarity between 3D conformers: 0.08904109589041095\n",
            "Tanimoto similarity between 3D conformers: 0.08904109589041095\n",
            "Tanimoto similarity between 3D conformers: 0.07647058823529412\n",
            "Tanimoto similarity between 3D conformers: 0.07647058823529412\n",
            "Tanimoto similarity between 3D conformers: 0.1282051282051282\n",
            "Tanimoto similarity between 3D conformers: 0.1282051282051282\n",
            "Tanimoto similarity between 3D conformers: 0.08666666666666667\n",
            "Tanimoto similarity between 3D conformers: 0.08666666666666667\n",
            "Tanimoto similarity between 3D conformers: 0.09154929577464789\n",
            "Tanimoto similarity between 3D conformers: 0.09154929577464789\n",
            "Tanimoto similarity between 3D conformers: 0.12030075187969924\n",
            "Tanimoto similarity between 3D conformers: 0.12030075187969924\n",
            "Tanimoto similarity between 3D conformers: 0.12307692307692308\n",
            "Tanimoto similarity between 3D conformers: 0.12307692307692308\n",
            "Tanimoto similarity between 3D conformers: 0.0896551724137931\n",
            "Tanimoto similarity between 3D conformers: 0.12931034482758622\n",
            "Tanimoto similarity between 3D conformers: 0.12931034482758622\n",
            "Tanimoto similarity between 3D conformers: 0.09285714285714286\n",
            "Tanimoto similarity between 3D conformers: 0.09285714285714286\n",
            "Tanimoto similarity between 3D conformers: 0.09154929577464789\n",
            "Tanimoto similarity between 3D conformers: 0.09154929577464789\n",
            "Tanimoto similarity between 3D conformers: 0.07344632768361582\n",
            "Tanimoto similarity between 3D conformers: 0.07344632768361582\n",
            "Tanimoto similarity between 3D conformers: 0.13008130081300814\n",
            "Tanimoto similarity between 3D conformers: 0.13008130081300814\n",
            "Tanimoto similarity between 3D conformers: 0.09352517985611511\n",
            "Tanimoto similarity between 3D conformers: 0.09352517985611511\n",
            "Tanimoto similarity between 3D conformers: 0.09923664122137404\n",
            "Tanimoto similarity between 3D conformers: 0.09923664122137404\n",
            "Tanimoto similarity between 3D conformers: 0.09774436090225563\n",
            "Tanimoto similarity between 3D conformers: 0.09774436090225563\n",
            "Tanimoto similarity between 3D conformers: 0.08552631578947369\n",
            "Tanimoto similarity between 3D conformers: 0.08552631578947369\n",
            "Tanimoto similarity between 3D conformers: 0.0872093023255814\n",
            "Tanimoto similarity between 3D conformers: 0.0872093023255814\n",
            "Tanimoto similarity between 3D conformers: 0.1388888888888889\n",
            "Tanimoto similarity between 3D conformers: 0.1388888888888889\n",
            "Tanimoto similarity between 3D conformers: 0.1015625\n",
            "Tanimoto similarity between 3D conformers: 0.1015625\n",
            "Tanimoto similarity between 3D conformers: 0.11363636363636363\n",
            "Tanimoto similarity between 3D conformers: 0.11363636363636363\n",
            "Tanimoto similarity between 3D conformers: 0.1\n",
            "Tanimoto similarity between 3D conformers: 0.1\n",
            "Tanimoto similarity between 3D conformers: 0.13740458015267176\n"
          ]
        },
        {
          "output_type": "error",
          "ename": "KeyboardInterrupt",
          "evalue": "",
          "traceback": [
            "\u001b[0;31m---------------------------------------------------------------------------\u001b[0m",
            "\u001b[0;31mKeyboardInterrupt\u001b[0m                         Traceback (most recent call last)",
            "\u001b[0;32m<ipython-input-9-786bd24e37ba>\u001b[0m in \u001b[0;36m<cell line: 11>\u001b[0;34m()\u001b[0m\n\u001b[1;32m     19\u001b[0m   \u001b[0mmol2\u001b[0m \u001b[0;34m=\u001b[0m \u001b[0mChem\u001b[0m\u001b[0;34m.\u001b[0m\u001b[0mAddHs\u001b[0m\u001b[0;34m(\u001b[0m\u001b[0mmol2\u001b[0m\u001b[0;34m)\u001b[0m\u001b[0;34m\u001b[0m\u001b[0;34m\u001b[0m\u001b[0m\n\u001b[1;32m     20\u001b[0m \u001b[0;34m\u001b[0m\u001b[0m\n\u001b[0;32m---> 21\u001b[0;31m   \u001b[0mAllChem\u001b[0m\u001b[0;34m.\u001b[0m\u001b[0mEmbedMolecule\u001b[0m\u001b[0;34m(\u001b[0m\u001b[0mmol2\u001b[0m\u001b[0;34m)\u001b[0m\u001b[0;34m\u001b[0m\u001b[0;34m\u001b[0m\u001b[0m\n\u001b[0m\u001b[1;32m     22\u001b[0m \u001b[0;34m\u001b[0m\u001b[0m\n\u001b[1;32m     23\u001b[0m   \u001b[0;31m# Generate 3D Morgan fingerprints from 3D conformers\u001b[0m\u001b[0;34m\u001b[0m\u001b[0;34m\u001b[0m\u001b[0m\n",
            "\u001b[0;31mKeyboardInterrupt\u001b[0m: "
          ]
        }
      ]
    },
    {
      "cell_type": "markdown",
      "source": [
        "finding positve/negative charge on smile"
      ],
      "metadata": {
        "id": "EhK3_v4vweLd"
      }
    },
    {
      "cell_type": "code",
      "source": [
        "from rdkit import Chem\n",
        "\n",
        "# Function to check if a molecule is positively or negatively charged\n",
        "def check_charge(smiles):\n",
        "    mol = Chem.MolFromSmiles(smiles)\n",
        "    if mol is not None:\n",
        "        total_charge = Chem.GetFormalCharge(mol)\n",
        "        if total_charge > 0:\n",
        "            return \"Positive charge\"\n",
        "        elif total_charge < 0:\n",
        "            return \"Negative charge\"\n",
        "        else:\n",
        "            return \"Neutral\"\n",
        "    else:\n",
        "        return \"Invalid SMILES\"\n",
        "\n",
        "# Example usage:\n",
        "for i in file_contents:\n",
        "  smiles = i\n",
        "  charge_status = check_charge(smiles)\n",
        "  print(f\"charge : {charge_status}\")\n"
      ],
      "metadata": {
        "id": "B3Xsl69vvDKn",
        "colab": {
          "base_uri": "https://localhost:8080/"
        },
        "outputId": "8bb92898-0a24-415b-8163-1ba151b21579"
      },
      "execution_count": null,
      "outputs": [
        {
          "output_type": "stream",
          "name": "stdout",
          "text": [
            "charge : Neutral\n",
            "charge : Neutral\n",
            "charge : Neutral\n"
          ]
        }
      ]
    },
    {
      "cell_type": "markdown",
      "source": [
        "finding aromatic ring in smile molecule"
      ],
      "metadata": {
        "id": "JFqzTylywkgV"
      }
    },
    {
      "cell_type": "code",
      "source": [
        "from rdkit import Chem\n",
        "\n",
        "# Function to check if a molecule contains aromatic rings\n",
        "def check_aromaticity(smiles):\n",
        "    mol = Chem.MolFromSmiles(smiles)\n",
        "    if mol is not None:\n",
        "        return mol.GetSubstructMatches(Chem.MolFromSmarts(\"[a]\"))\n",
        "    else:\n",
        "        return \"Invalid SMILES\"\n",
        "\n",
        "# Example usage:\n",
        "for i in file_contents:\n",
        "  smiles = i  # Benzene\n",
        "  has_aromatic_rings = check_aromaticity(smiles)\n",
        "  if has_aromatic_rings:\n",
        "      print(f\"aromatic rings : yes\")\n",
        "  else:\n",
        "      print(f\"aromatic rings : NO\")\n"
      ],
      "metadata": {
        "id": "ijCKqZswwt53",
        "colab": {
          "base_uri": "https://localhost:8080/"
        },
        "outputId": "5bc305f9-d6e5-417a-f74d-78e509f678d3"
      },
      "execution_count": null,
      "outputs": [
        {
          "output_type": "stream",
          "name": "stdout",
          "text": [
            "aromatic rings : yes\n"
          ]
        }
      ]
    },
    {
      "cell_type": "markdown",
      "source": [
        "hydrogen bond donor or acceptor\n"
      ],
      "metadata": {
        "id": "CvUHGJ5N0KTh"
      }
    },
    {
      "cell_type": "code",
      "source": [
        "# from rdkit import Chem\n",
        "\n",
        "# # Function to identify hydrogen bond donors and acceptors in a molecule\n",
        "# def identify_hbond_donor_acceptor(smiles):\n",
        "#     mol = Chem.MolFromSmiles(smiles)\n",
        "#     if mol is not None:\n",
        "#         atom_properties = []\n",
        "#         for atom in mol.GetAtoms():\n",
        "#             # Check if the atom can act as a hydrogen bond donor\n",
        "#             if atom.GetTotalNumHs() > 0 and atom.GetSymbol() != 'H':\n",
        "#                 atom_properties.append(f\"Atom {atom.GetIdx()} is a hydrogen bond donor.\")\n",
        "#             # Check if the atom can act as a hydrogen bond acceptor\n",
        "#             if atom.GetTotalNumHs() == 0 and atom.GetImplicitValence() > atom.GetExplicitValence():\n",
        "#                 atom_properties.append(f\"Atom {atom.GetIdx()} is a hydrogen bond acceptor.\")\n",
        "#         return atom_properties\n",
        "#     else:\n",
        "#         return \"Invalid SMILES\"\n",
        "\n",
        "# # Example usage:\n",
        "# for i in file_contents:\n",
        "#   smiles = i # Ethanol\n",
        "#   hbond_properties = identify_hbond_donor_acceptor(smiles)\n",
        "#   for prop in hbond_properties:\n",
        "#       print(prop)\n",
        "# # print(hbond_properties)\n"
      ],
      "metadata": {
        "id": "yFqJjABr0Lnx"
      },
      "execution_count": null,
      "outputs": []
    },
    {
      "cell_type": "code",
      "source": [
        "from rdkit import Chem\n",
        "\n",
        "# Function to identify potential hydrogen bond donors and acceptors in a molecule\n",
        "def identify_hydrogen_bonding_atoms(smiles):\n",
        "    mol = Chem.MolFromSmiles(smiles)\n",
        "    if mol is not None:\n",
        "        hbond_donors = [atom.GetIdx() for atom in mol.GetAtoms() if atom.GetTotalNumHs() > 0 and atom.GetSymbol() != 'H']\n",
        "        hbond_acceptors = [atom.GetIdx() for atom in mol.GetAtoms() if atom.GetTotalNumHs() == 0 or atom.GetImplicitValence() > atom.GetExplicitValence()]\n",
        "\n",
        "        return {\n",
        "            'Hydrogen Bond Donors': hbond_donors,\n",
        "            'Hydrogen Bond Acceptors': hbond_acceptors\n",
        "        }\n",
        "    else:\n",
        "        return \"Invalid SMILES\"\n",
        "\n",
        "# Example usage:\n",
        "# for i in file_contents:\n",
        "smiles = \"Oc1nc2ccc(Cl)cc2nc1O\"  # Ethanol\n",
        "hbond_properties = identify_hydrogen_bonding_atoms(smiles)\n",
        "print(f\"Hydrogen Bond Donors: {hbond_properties['Hydrogen Bond Donors']}\")\n",
        "print(f\"Hydrogen Bond Acceptors: {hbond_properties['Hydrogen Bond Acceptors']}\")\n"
      ],
      "metadata": {
        "id": "NFgZb8y11M0V",
        "colab": {
          "base_uri": "https://localhost:8080/"
        },
        "outputId": "90d5ea64-fd7f-45c4-9d4a-cc9bbc0fc20d"
      },
      "execution_count": null,
      "outputs": [
        {
          "output_type": "stream",
          "name": "stdout",
          "text": [
            "Hydrogen Bond Donors: [0, 4, 5, 8, 12]\n",
            "Hydrogen Bond Acceptors: [1, 2, 3, 6, 7, 9, 10, 11]\n"
          ]
        }
      ]
    },
    {
      "cell_type": "markdown",
      "source": [
        "hydrophobic region"
      ],
      "metadata": {
        "id": "5nL_5iUKEfiA"
      }
    },
    {
      "cell_type": "code",
      "source": [
        "from rdkit import Chem\n",
        "\n",
        "# Function to identify hydrophobic regions in a molecule\n",
        "def find_hydrophobic_regions(smiles):\n",
        "    mol = Chem.MolFromSmiles(smiles)\n",
        "    if mol is not None:\n",
        "        hydrophobic_atoms = []\n",
        "\n",
        "        # Identify atoms based on their properties (e.g., carbon atoms)\n",
        "        for atom in mol.GetAtoms():\n",
        "            if atom.GetAtomicNum() == 6 or atom.GetAtomicNum() == 35.5 or atom.GetAtomicNum() == 80 or atom.GetAtomicNum() == 127:  # Carbon atoms are generally part of hydrophobic regions\n",
        "                hydrophobic_atoms.append(atom.GetIdx())\n",
        "\n",
        "        return hydrophobic_atoms if hydrophobic_atoms else \"No hydrophobic regions found\"\n",
        "    else:\n",
        "        return \"Invalid SMILES\"\n",
        "\n",
        "# Example usage:\n",
        "for i in file_contents:\n",
        "  smiles = i\n",
        "  hydrophobic_atoms = find_hydrophobic_regions(smiles)\n",
        "  if isinstance(hydrophobic_atoms, list):\n",
        "      print(f\"Indices of hydrophobic atoms in the molecule with SMILES '{smiles}': {hydrophobic_atoms}\")\n",
        "  else:\n",
        "      print(hydrophobic_atoms)\n"
      ],
      "metadata": {
        "id": "tF9VxtEUEgIe",
        "colab": {
          "base_uri": "https://localhost:8080/"
        },
        "outputId": "fb5b1181-272b-4370-8cc1-a3ed8ba18554"
      },
      "execution_count": null,
      "outputs": [
        {
          "output_type": "stream",
          "name": "stdout",
          "text": [
            "Indices of hydrophobic atoms in the molecule with SMILES 'CC(=O)OC1=CC=CC=C1C(=O)O\n",
            "': [0, 1, 4, 5, 6, 7, 8, 9, 10]\n",
            "Indices of hydrophobic atoms in the molecule with SMILES 'CC(=O)Oc1ccccc1C(=O)O\n",
            "': [0, 1, 4, 5, 6, 7, 8, 9, 10]\n",
            "Indices of hydrophobic atoms in the molecule with SMILES 'OCC(O)C(O)C(O)C(O)CO': [1, 2, 4, 6, 8, 10]\n"
          ]
        }
      ]
    },
    {
      "cell_type": "markdown",
      "source": [
        "fnctional group"
      ],
      "metadata": {
        "id": "gD39GzdIMqp5"
      }
    },
    {
      "cell_type": "code",
      "source": [
        "from rdkit import Chem\n",
        "\n",
        "# Function to identify functional groups in a molecule\n",
        "def find_functional_groups(smiles):\n",
        "    mol = Chem.MolFromSmiles(smiles)\n",
        "    if mol is not None:\n",
        "        functional_groups = []\n",
        "\n",
        "        # Define SMARTS patterns for various functional groups\n",
        "        functional_group_patterns = {\n",
        "            'Alcohol': '[OX2H]',\n",
        "            'Carboxylic Acid': '[CX3](=O)[OX2H1]',\n",
        "            'Amine': '[NX3;H2,H1;!$(NC=O)]',\n",
        "            'Halogen':'[F]',\n",
        "            'Halogen':'[Cl]',\n",
        "            'Halogen':'[Br]'\n",
        "            # Add more SMARTS patterns for other functional groups as needed\n",
        "        }\n",
        "\n",
        "        for group, pattern in functional_group_patterns.items():\n",
        "            substructure = Chem.MolFromSmarts(pattern)\n",
        "            matches = mol.GetSubstructMatches(substructure)\n",
        "            if matches:\n",
        "                functional_groups.append(group)\n",
        "\n",
        "        return functional_groups if functional_groups else \"No functional groups found\"\n",
        "    else:\n",
        "        return \"Invalid SMILES\"\n",
        "\n",
        "# Example usage:\n",
        "for i in file_contents:\n",
        "  smiles = i\n",
        "  functional_groups = find_functional_groups(smiles)\n",
        "  if isinstance(functional_groups, list):\n",
        "      print(f\"Functional groups in the molecule with SMILES '{smiles}': {', '.join(functional_groups)}\")\n",
        "  else:\n",
        "      print(functional_groups)\n"
      ],
      "metadata": {
        "id": "V_dCsRZ4Ms0J",
        "colab": {
          "base_uri": "https://localhost:8080/"
        },
        "outputId": "cc1e7c3a-d117-457d-ea9d-140e85e993d2"
      },
      "execution_count": null,
      "outputs": [
        {
          "output_type": "stream",
          "name": "stdout",
          "text": [
            "Functional groups in the molecule with SMILES 'c1ccccc1Br': Halogen\n"
          ]
        }
      ]
    },
    {
      "cell_type": "markdown",
      "source": [
        "printing the image of the smile(compund)"
      ],
      "metadata": {
        "id": "OcfE5WXVTk1D"
      }
    },
    {
      "cell_type": "code",
      "source": [
        "from rdkit import Chem\n",
        "from rdkit.Chem import Draw\n",
        "\n",
        "# List of SMILES strings\n",
        "\n",
        "smiles_list = [\"c1ccccc1Br\"]\n",
        "for i in file_contents:\n",
        "  smiles_list.append(i)\n",
        "\n",
        "# Function to draw molecules from SMILES and display them\n",
        "def draw_molecules(smiles_list):\n",
        "    molecule_images = []\n",
        "    for smiles in smiles_list:\n",
        "        mol = Chem.MolFromSmiles(smiles)\n",
        "        if mol is not None:\n",
        "            molecule_images.append(Draw.MolToImage(mol))\n",
        "        else:\n",
        "            molecule_images.append(f\"Invalid SMILES: {smiles}\")\n",
        "    return molecule_images\n",
        "\n",
        "# Example usage:\n",
        "images = draw_molecules(smiles_list)\n",
        "for image in images:\n",
        "    if isinstance(image, str):\n",
        "        print(image)\n",
        "    else:\n",
        "        display(image)  # Display the molecule structures\n"
      ],
      "metadata": {
        "colab": {
          "base_uri": "https://localhost:8080/",
          "height": 1000
        },
        "id": "d-rWb-JATAcZ",
        "outputId": "bbec84d3-d90f-489e-b711-4526d5dd20d0"
      },
      "execution_count": null,
      "outputs": [
        {
          "output_type": "display_data",
          "data": {
            "text/plain": [
              "<PIL.PngImagePlugin.PngImageFile image mode=RGB size=300x300>"
            ],
            "image/png": "[encoded data removed]"
          },
          "metadata": {}
        },
        {
          "output_type": "display_data",
          "data": {
            "text/plain": [
              "<PIL.PngImagePlugin.PngImageFile image mode=RGB size=300x300>"
            ],
            "image/png": "[encoded data removed]"
          },
          "metadata": {}
        },
        {
          "output_type": "display_data",
          "data": {
            "text/plain": [
              "<PIL.PngImagePlugin.PngImageFile image mode=RGB size=300x300>"
            ],
            "image/png": "[encoded data removed]"
          },
          "metadata": {}
        },
        {
          "output_type": "display_data",
          "data": {
            "text/plain": [
              "<PIL.PngImagePlugin.PngImageFile image mode=RGB size=300x300>"
            ],
            "image/png": "[encoded data removed]"
          },
          "metadata": {}
        }
      ]
    },
    {
      "cell_type": "code",
      "source": [],
      "metadata": {
        "id": "zb4BYRDtqHU3"
      },
      "execution_count": null,
      "outputs": []
    },
    {
      "cell_type": "code",
      "source": [
        "from rdkit import Chem\n",
        "\n",
        "def count_hbond_donors(smiles):\n",
        "    mol = Chem.MolFromSmiles(smiles)\n",
        "    if mol is None:\n",
        "        return \"Invalid SMILES string\"\n",
        "\n",
        "    # Count hydrogen bond donors\n",
        "    donors = sum(1 for atom in mol.GetAtoms() if atom.GetTotalNumHs() > 0 and (atom.GetAtomicNum() == 7 or atom.GetAtomicNum() == 8))\n",
        "    return donors\n",
        "\n",
        "# Example SMILES string\n",
        "for i in file_contents:\n",
        "  smiles = i  # Replace this with any SMILES string\n",
        "\n",
        "  donors_count= count_hbond_donors(smiles)\n",
        "  print(f\"Number of hydrogen bond donors: {donors_count}\")\n"
      ],
      "metadata": {
        "colab": {
          "base_uri": "https://localhost:8080/"
        },
        "id": "oEFaYxOksQFM",
        "outputId": "700046ca-a5ea-4612-b80e-1e29b0e5bab2"
      },
      "execution_count": null,
      "outputs": [
        {
          "output_type": "stream",
          "name": "stdout",
          "text": [
            "Number of hydrogen bond donors: 1\n",
            "Number of hydrogen bond donors: 1\n",
            "Number of hydrogen bond donors: 6\n"
          ]
        }
      ]
    },
    {
      "cell_type": "code",
      "source": [
        "from rdkit import Chem\n",
        "\n",
        "def count_hbond_acceptors(smiles):\n",
        "    mol = Chem.MolFromSmiles(smiles)\n",
        "    if mol is None:\n",
        "        return \"Invalid SMILES string\"\n",
        "\n",
        "    # Count hydrogen bond acceptors, considering case sensitivity\n",
        "    acceptors = sum(1 for atom in mol.GetAtoms() if (atom.GetSymbol() in ['N', 'O','Cl','F']) and (atom.GetTotalDegree() < 4))\n",
        "\n",
        "    return acceptors\n",
        "\n",
        "# Example SMILES string\n",
        "for i in file_contents:\n",
        "  example_smiles = i  # Replace this with any SMILES string\n",
        "\n",
        "  acceptors_count = count_hbond_acceptors(example_smiles)\n",
        "  print(f\"Number of hydrogen bond acceptors: {acceptors_count}\")\n"
      ],
      "metadata": {
        "colab": {
          "base_uri": "https://localhost:8080/"
        },
        "id": "pILEFniixnX8",
        "outputId": "db805339-da94-40e4-abd1-ae0f7188e8c3"
      },
      "execution_count": null,
      "outputs": [
        {
          "output_type": "stream",
          "name": "stdout",
          "text": [
            "Number of hydrogen bond acceptors: 4\n",
            "Number of hydrogen bond acceptors: 4\n",
            "Number of hydrogen bond acceptors: 6\n"
          ]
        }
      ]
    },
    {
      "cell_type": "code",
      "source": [
        "!wget https://ftp.ncbi.nlm.nih.gov/pubchem/Compound/CURRENT-Full/SDF/Compound_170500001_171000000.sdf.gz"
      ],
      "metadata": {
        "colab": {
          "base_uri": "https://localhost:8080/"
        },
        "id": "j95qna-RqnoJ",
        "outputId": "0f71331c-5be4-47cf-a287-b49aff9bae66"
      },
      "execution_count": null,
      "outputs": [
        {
          "output_type": "stream",
          "name": "stdout",
          "text": [
            "--2024-04-10 13:16:13--  https://ftp.ncbi.nlm.nih.gov/pubchem/Compound/CURRENT-Full/SDF/Compound_170500001_171000000.sdf.gz\n",
            "Resolving ftp.ncbi.nlm.nih.gov (ftp.ncbi.nlm.nih.gov)... 130.14.250.12, 130.14.250.13, 2607:f220:41e:250::13, ...\n",
            "Connecting to ftp.ncbi.nlm.nih.gov (ftp.ncbi.nlm.nih.gov)|130.14.250.12|:443... connected.\n",
            "HTTP request sent, awaiting response... 200 OK\n",
            "Length: 519585124 (496M) [application/x-gzip]\n",
            "Saving to: ‘Compound_170500001_171000000.sdf.gz’\n",
            "\n",
            "Compound_170500001_ 100%[===================>] 495.51M  13.7MB/s    in 29s     \n",
            "\n",
            "2024-04-10 13:16:43 (17.2 MB/s) - ‘Compound_170500001_171000000.sdf.gz’ saved [519585124/519585124]\n",
            "\n"
          ]
        }
      ]
    },
    {
      "cell_type": "code",
      "source": [
        "!wget https://ftp.ncbi.nlm.nih.gov/pubchem/Compound/CURRENT-Full/SDF/Compound_125000001_125500000.sdf.gz"
      ],
      "metadata": {
        "colab": {
          "base_uri": "https://localhost:8080/"
        },
        "id": "Imswrj95KBVa",
        "outputId": "98eb1395-6dca-46de-a50a-5c02dfd8746b"
      },
      "execution_count": null,
      "outputs": [
        {
          "output_type": "stream",
          "name": "stdout",
          "text": [
            "--2024-04-10 13:18:30--  https://ftp.ncbi.nlm.nih.gov/pubchem/Compound/CURRENT-Full/SDF/Compound_125000001_125500000.sdf.gz\n",
            "Resolving ftp.ncbi.nlm.nih.gov (ftp.ncbi.nlm.nih.gov)... 130.14.250.12, 130.14.250.13, 2607:f220:41e:250::10, ...\n",
            "Connecting to ftp.ncbi.nlm.nih.gov (ftp.ncbi.nlm.nih.gov)|130.14.250.12|:443... connected.\n",
            "HTTP request sent, awaiting response... 200 OK\n",
            "Length: 177044026 (169M) [application/x-gzip]\n",
            "Saving to: ‘Compound_125000001_125500000.sdf.gz’\n",
            "\n",
            "Compound_125000001_ 100%[===================>] 168.84M  28.1MB/s    in 6.4s    \n",
            "\n",
            "2024-04-10 13:18:36 (26.4 MB/s) - ‘Compound_125000001_125500000.sdf.gz’ saved [177044026/177044026]\n",
            "\n"
          ]
        }
      ]
    },
    {
      "cell_type": "markdown",
      "source": [],
      "metadata": {
        "id": "MD5cjZ3WKEMa"
      }
    },
    {
      "cell_type": "code",
      "source": [
        "!gunzip Compound_125000001_125500000.sdf.gz"
      ],
      "metadata": {
        "id": "omatziCnqq55"
      },
      "execution_count": null,
      "outputs": []
    },
    {
      "cell_type": "code",
      "source": [
        "import pandas as pd"
      ],
      "metadata": {
        "id": "a0qAhZ91rDB4"
      },
      "execution_count": null,
      "outputs": []
    },
    {
      "cell_type": "code",
      "source": [
        "!pip install pubchempy\n"
      ],
      "metadata": {
        "colab": {
          "base_uri": "https://localhost:8080/"
        },
        "id": "Nw0ZkcHb0wOW",
        "outputId": "508c777d-a89d-46e0-c865-ac4baf9b2293"
      },
      "execution_count": null,
      "outputs": [
        {
          "output_type": "stream",
          "name": "stdout",
          "text": [
            "Collecting pubchempy\n",
            "  Downloading PubChemPy-1.0.4.tar.gz (29 kB)\n",
            "  Preparing metadata (setup.py) ... \u001b[?25l\u001b[?25hdone\n",
            "Building wheels for collected packages: pubchempy\n",
            "  Building wheel for pubchempy (setup.py) ... \u001b[?25l\u001b[?25hdone\n",
            "  Created wheel for pubchempy: filename=PubChemPy-1.0.4-py3-none-any.whl size=13820 sha256=ba2a43ca7abb40ca429cc19805ce61df81b15374a8431c202dd0c5f9421bdae8\n",
            "  Stored in directory: /root/.cache/pip/wheels/90/7c/45/18a0671e3c3316966ef7ed9ad2b3f3300a7e41d3421a44e799\n",
            "Successfully built pubchempy\n",
            "Installing collected packages: pubchempy\n",
            "Successfully installed pubchempy-1.0.4\n"
          ]
        }
      ]
    },
    {
      "cell_type": "code",
      "source": [
        "!pip install chembl_webresource_client\n"
      ],
      "metadata": {
        "colab": {
          "base_uri": "https://localhost:8080/"
        },
        "id": "0O_ksp9-2cYC",
        "outputId": "568e5032-6d45-4575-b183-bed540829efc"
      },
      "execution_count": null,
      "outputs": [
        {
          "output_type": "stream",
          "name": "stdout",
          "text": [
            "Collecting chembl_webresource_client\n",
            "  Downloading chembl_webresource_client-0.10.9-py3-none-any.whl (55 kB)\n",
            "\u001b[2K     \u001b[90m━━━━━━━━━━━━━━━━━━━━━━━━━━━━━━━━━━━━━━━━\u001b[0m \u001b[32m55.2/55.2 kB\u001b[0m \u001b[31m1.3 MB/s\u001b[0m eta \u001b[36m0:00:00\u001b[0m\n",
            "\u001b[?25hRequirement already satisfied: urllib3 in /usr/local/lib/python3.10/dist-packages (from chembl_webresource_client) (2.0.7)\n",
            "Requirement already satisfied: requests>=2.18.4 in /usr/local/lib/python3.10/dist-packages (from chembl_webresource_client) (2.31.0)\n",
            "Collecting requests-cache~=1.2 (from chembl_webresource_client)\n",
            "  Downloading requests_cache-1.2.0-py3-none-any.whl (61 kB)\n",
            "\u001b[2K     \u001b[90m━━━━━━━━━━━━━━━━━━━━━━━━━━━━━━━━━━━━━━━━\u001b[0m \u001b[32m61.4/61.4 kB\u001b[0m \u001b[31m3.7 MB/s\u001b[0m eta \u001b[36m0:00:00\u001b[0m\n",
            "\u001b[?25hRequirement already satisfied: easydict in /usr/local/lib/python3.10/dist-packages (from chembl_webresource_client) (1.13)\n",
            "Requirement already satisfied: charset-normalizer<4,>=2 in /usr/local/lib/python3.10/dist-packages (from requests>=2.18.4->chembl_webresource_client) (3.3.2)\n",
            "Requirement already satisfied: idna<4,>=2.5 in /usr/local/lib/python3.10/dist-packages (from requests>=2.18.4->chembl_webresource_client) (3.6)\n",
            "Requirement already satisfied: certifi>=2017.4.17 in /usr/local/lib/python3.10/dist-packages (from requests>=2.18.4->chembl_webresource_client) (2024.2.2)\n",
            "Requirement already satisfied: attrs>=21.2 in /usr/local/lib/python3.10/dist-packages (from requests-cache~=1.2->chembl_webresource_client) (23.2.0)\n",
            "Collecting cattrs>=22.2 (from requests-cache~=1.2->chembl_webresource_client)\n",
            "  Downloading cattrs-23.2.3-py3-none-any.whl (57 kB)\n",
            "\u001b[2K     \u001b[90m━━━━━━━━━━━━━━━━━━━━━━━━━━━━━━━━━━━━━━━━\u001b[0m \u001b[32m57.5/57.5 kB\u001b[0m \u001b[31m4.1 MB/s\u001b[0m eta \u001b[36m0:00:00\u001b[0m\n",
            "\u001b[?25hRequirement already satisfied: platformdirs>=2.5 in /usr/local/lib/python3.10/dist-packages (from requests-cache~=1.2->chembl_webresource_client) (4.2.0)\n",
            "Collecting url-normalize>=1.4 (from requests-cache~=1.2->chembl_webresource_client)\n",
            "  Downloading url_normalize-1.4.3-py2.py3-none-any.whl (6.8 kB)\n",
            "Requirement already satisfied: exceptiongroup>=1.1.1 in /usr/local/lib/python3.10/dist-packages (from cattrs>=22.2->requests-cache~=1.2->chembl_webresource_client) (1.2.0)\n",
            "Requirement already satisfied: typing-extensions!=4.6.3,>=4.1.0 in /usr/local/lib/python3.10/dist-packages (from cattrs>=22.2->requests-cache~=1.2->chembl_webresource_client) (4.10.0)\n",
            "Requirement already satisfied: six in /usr/local/lib/python3.10/dist-packages (from url-normalize>=1.4->requests-cache~=1.2->chembl_webresource_client) (1.16.0)\n",
            "Installing collected packages: url-normalize, cattrs, requests-cache, chembl_webresource_client\n",
            "Successfully installed cattrs-23.2.3 chembl_webresource_client-0.10.9 requests-cache-1.2.0 url-normalize-1.4.3\n"
          ]
        }
      ]
    },
    {
      "cell_type": "code",
      "source": [
        "df = pd.read_csv('/content/Compound_170500001_171000000.sdf')\n",
        "df"
      ],
      "metadata": {
        "colab": {
          "base_uri": "https://localhost:8080/",
          "height": 224
        },
        "id": "Dyuwd-3y0PdX",
        "outputId": "08682026-e3de-43f8-8ba2-abd6b02d63d3"
      },
      "execution_count": null,
      "outputs": [
        {
          "output_type": "error",
          "ename": "ParserError",
          "evalue": "Error tokenizing data. C error: Expected 1 fields in line 107, saw 6\n",
          "traceback": [
            "\u001b[0;31m---------------------------------------------------------------------------\u001b[0m",
            "\u001b[0;31mParserError\u001b[0m                               Traceback (most recent call last)",
            "\u001b[0;32m<ipython-input-4-f5909cccb19d>\u001b[0m in \u001b[0;36m<cell line: 1>\u001b[0;34m()\u001b[0m\n\u001b[0;32m----> 1\u001b[0;31m \u001b[0mdf\u001b[0m \u001b[0;34m=\u001b[0m \u001b[0mpd\u001b[0m\u001b[0;34m.\u001b[0m\u001b[0mread_csv\u001b[0m\u001b[0;34m(\u001b[0m\u001b[0;34m'/content/Compound_170500001_171000000.sdf'\u001b[0m\u001b[0;34m)\u001b[0m\u001b[0;34m\u001b[0m\u001b[0;34m\u001b[0m\u001b[0m\n\u001b[0m\u001b[1;32m      2\u001b[0m \u001b[0mdf\u001b[0m\u001b[0;34m\u001b[0m\u001b[0;34m\u001b[0m\u001b[0m\n",
            "\u001b[0;32m/usr/local/lib/python3.10/dist-packages/pandas/io/parsers/readers.py\u001b[0m in \u001b[0;36mread_csv\u001b[0;34m(filepath_or_buffer, sep, delimiter, header, names, index_col, usecols, dtype, engine, converters, true_values, false_values, skipinitialspace, skiprows, skipfooter, nrows, na_values, keep_default_na, na_filter, verbose, skip_blank_lines, parse_dates, infer_datetime_format, keep_date_col, date_parser, date_format, dayfirst, cache_dates, iterator, chunksize, compression, thousands, decimal, lineterminator, quotechar, quoting, doublequote, escapechar, comment, encoding, encoding_errors, dialect, on_bad_lines, delim_whitespace, low_memory, memory_map, float_precision, storage_options, dtype_backend)\u001b[0m\n\u001b[1;32m    910\u001b[0m     \u001b[0mkwds\u001b[0m\u001b[0;34m.\u001b[0m\u001b[0mupdate\u001b[0m\u001b[0;34m(\u001b[0m\u001b[0mkwds_defaults\u001b[0m\u001b[0;34m)\u001b[0m\u001b[0;34m\u001b[0m\u001b[0;34m\u001b[0m\u001b[0m\n\u001b[1;32m    911\u001b[0m \u001b[0;34m\u001b[0m\u001b[0m\n\u001b[0;32m--> 912\u001b[0;31m     \u001b[0;32mreturn\u001b[0m \u001b[0m_read\u001b[0m\u001b[0;34m(\u001b[0m\u001b[0mfilepath_or_buffer\u001b[0m\u001b[0;34m,\u001b[0m \u001b[0mkwds\u001b[0m\u001b[0;34m)\u001b[0m\u001b[0;34m\u001b[0m\u001b[0;34m\u001b[0m\u001b[0m\n\u001b[0m\u001b[1;32m    913\u001b[0m \u001b[0;34m\u001b[0m\u001b[0m\n\u001b[1;32m    914\u001b[0m \u001b[0;34m\u001b[0m\u001b[0m\n",
            "\u001b[0;32m/usr/local/lib/python3.10/dist-packages/pandas/io/parsers/readers.py\u001b[0m in \u001b[0;36m_read\u001b[0;34m(filepath_or_buffer, kwds)\u001b[0m\n\u001b[1;32m    581\u001b[0m \u001b[0;34m\u001b[0m\u001b[0m\n\u001b[1;32m    582\u001b[0m     \u001b[0;32mwith\u001b[0m \u001b[0mparser\u001b[0m\u001b[0;34m:\u001b[0m\u001b[0;34m\u001b[0m\u001b[0;34m\u001b[0m\u001b[0m\n\u001b[0;32m--> 583\u001b[0;31m         \u001b[0;32mreturn\u001b[0m \u001b[0mparser\u001b[0m\u001b[0;34m.\u001b[0m\u001b[0mread\u001b[0m\u001b[0;34m(\u001b[0m\u001b[0mnrows\u001b[0m\u001b[0;34m)\u001b[0m\u001b[0;34m\u001b[0m\u001b[0;34m\u001b[0m\u001b[0m\n\u001b[0m\u001b[1;32m    584\u001b[0m \u001b[0;34m\u001b[0m\u001b[0m\n\u001b[1;32m    585\u001b[0m \u001b[0;34m\u001b[0m\u001b[0m\n",
            "\u001b[0;32m/usr/local/lib/python3.10/dist-packages/pandas/io/parsers/readers.py\u001b[0m in \u001b[0;36mread\u001b[0;34m(self, nrows)\u001b[0m\n\u001b[1;32m   1702\u001b[0m                     \u001b[0mcolumns\u001b[0m\u001b[0;34m,\u001b[0m\u001b[0;34m\u001b[0m\u001b[0;34m\u001b[0m\u001b[0m\n\u001b[1;32m   1703\u001b[0m                     \u001b[0mcol_dict\u001b[0m\u001b[0;34m,\u001b[0m\u001b[0;34m\u001b[0m\u001b[0;34m\u001b[0m\u001b[0m\n\u001b[0;32m-> 1704\u001b[0;31m                 \u001b[0;34m)\u001b[0m \u001b[0;34m=\u001b[0m \u001b[0mself\u001b[0m\u001b[0;34m.\u001b[0m\u001b[0m_engine\u001b[0m\u001b[0;34m.\u001b[0m\u001b[0mread\u001b[0m\u001b[0;34m(\u001b[0m  \u001b[0;31m# type: ignore[attr-defined]\u001b[0m\u001b[0;34m\u001b[0m\u001b[0;34m\u001b[0m\u001b[0m\n\u001b[0m\u001b[1;32m   1705\u001b[0m                     \u001b[0mnrows\u001b[0m\u001b[0;34m\u001b[0m\u001b[0;34m\u001b[0m\u001b[0m\n\u001b[1;32m   1706\u001b[0m                 )\n",
            "\u001b[0;32m/usr/local/lib/python3.10/dist-packages/pandas/io/parsers/c_parser_wrapper.py\u001b[0m in \u001b[0;36mread\u001b[0;34m(self, nrows)\u001b[0m\n\u001b[1;32m    232\u001b[0m         \u001b[0;32mtry\u001b[0m\u001b[0;34m:\u001b[0m\u001b[0;34m\u001b[0m\u001b[0;34m\u001b[0m\u001b[0m\n\u001b[1;32m    233\u001b[0m             \u001b[0;32mif\u001b[0m \u001b[0mself\u001b[0m\u001b[0;34m.\u001b[0m\u001b[0mlow_memory\u001b[0m\u001b[0;34m:\u001b[0m\u001b[0;34m\u001b[0m\u001b[0;34m\u001b[0m\u001b[0m\n\u001b[0;32m--> 234\u001b[0;31m                 \u001b[0mchunks\u001b[0m \u001b[0;34m=\u001b[0m \u001b[0mself\u001b[0m\u001b[0;34m.\u001b[0m\u001b[0m_reader\u001b[0m\u001b[0;34m.\u001b[0m\u001b[0mread_low_memory\u001b[0m\u001b[0;34m(\u001b[0m\u001b[0mnrows\u001b[0m\u001b[0;34m)\u001b[0m\u001b[0;34m\u001b[0m\u001b[0;34m\u001b[0m\u001b[0m\n\u001b[0m\u001b[1;32m    235\u001b[0m                 \u001b[0;31m# destructive to chunks\u001b[0m\u001b[0;34m\u001b[0m\u001b[0;34m\u001b[0m\u001b[0m\n\u001b[1;32m    236\u001b[0m                 \u001b[0mdata\u001b[0m \u001b[0;34m=\u001b[0m \u001b[0m_concatenate_chunks\u001b[0m\u001b[0;34m(\u001b[0m\u001b[0mchunks\u001b[0m\u001b[0;34m)\u001b[0m\u001b[0;34m\u001b[0m\u001b[0;34m\u001b[0m\u001b[0m\n",
            "\u001b[0;32m/usr/local/lib/python3.10/dist-packages/pandas/_libs/parsers.pyx\u001b[0m in \u001b[0;36mpandas._libs.parsers.TextReader.read_low_memory\u001b[0;34m()\u001b[0m\n",
            "\u001b[0;32m/usr/local/lib/python3.10/dist-packages/pandas/_libs/parsers.pyx\u001b[0m in \u001b[0;36mpandas._libs.parsers.TextReader._read_rows\u001b[0;34m()\u001b[0m\n",
            "\u001b[0;32m/usr/local/lib/python3.10/dist-packages/pandas/_libs/parsers.pyx\u001b[0m in \u001b[0;36mpandas._libs.parsers.TextReader._tokenize_rows\u001b[0;34m()\u001b[0m\n",
            "\u001b[0;32m/usr/local/lib/python3.10/dist-packages/pandas/_libs/parsers.pyx\u001b[0m in \u001b[0;36mpandas._libs.parsers.TextReader._check_tokenize_status\u001b[0;34m()\u001b[0m\n",
            "\u001b[0;32m/usr/local/lib/python3.10/dist-packages/pandas/_libs/parsers.pyx\u001b[0m in \u001b[0;36mpandas._libs.parsers.raise_parser_error\u001b[0;34m()\u001b[0m\n",
            "\u001b[0;31mParserError\u001b[0m: Error tokenizing data. C error: Expected 1 fields in line 107, saw 6\n"
          ]
        }
      ]
    },
    {
      "cell_type": "code",
      "source": [
        "from rdkit import Chem\n",
        "from rdkit.Chem import Draw\n",
        "#from rdkit.Chem.Draw import IPythonConsole\n",
        "from rdkit.Chem import Descriptors\n",
        "from rdkit.Chem import AllChem\n",
        "from rdkit import DataStructs\n",
        "import glob\n",
        "import tqdm\n",
        "import numpy as np\n",
        "import pandas as pd\n",
        "from tqdm import tqdm\n",
        "import pubchempy as pcp\n",
        "from pubchempy import *\n",
        "from rdkit.Chem.PandasTools import LoadSDF\n",
        "from rdkit.Chem import (\n",
        "  PandasTools,\n",
        "  Draw,\n",
        "  Descriptors,\n",
        "  rdFingerprintGenerator,\n",
        ")\n",
        "import pandas as pd\n",
        "from tqdm import tqdm\n",
        "from chembl_webresource_client.new_client import new_client"
      ],
      "metadata": {
        "id": "pOARoZNG0aE1"
      },
      "execution_count": null,
      "outputs": []
    },
    {
      "cell_type": "code",
      "source": [
        "df = LoadSDF('/content/Compound_125000001_125500000.sdf')"
      ],
      "metadata": {
        "colab": {
          "base_uri": "https://localhost:8080/"
        },
        "id": "jylMlB4V0emt",
        "outputId": "dcc25826-d09e-4365-9b0c-43241057994a"
      },
      "execution_count": null,
      "outputs": [
        {
          "output_type": "stream",
          "name": "stderr",
          "text": [
            "[13:21:40] Warning: ambiguous stereochemistry - overlapping neighbors  - at atom 12 ignored\n",
            "[13:21:40] Warning: ambiguous stereochemistry - overlapping neighbors  - at atom 12 ignored\n",
            "[13:21:40] Warning: ambiguous stereochemistry - overlapping neighbors  - at atom 12 ignored\n",
            "[13:21:40] Warning: ambiguous stereochemistry - overlapping neighbors  - at atom 12 ignored\n",
            "[13:21:54] Warning: ambiguous stereochemistry - overlapping neighbors  - at atom 11 ignored\n",
            "[13:21:54] Warning: ambiguous stereochemistry - overlapping neighbors  - at atom 11 ignored\n",
            "[13:21:54] Warning: ambiguous stereochemistry - overlapping neighbors  - at atom 11 ignored\n",
            "[13:21:54] Warning: ambiguous stereochemistry - overlapping neighbors  - at atom 11 ignored\n",
            "[13:22:03] Warning: ambiguous stereochemistry - overlapping neighbors  - at atom 1 ignored\n",
            "[13:22:03] Warning: ambiguous stereochemistry - overlapping neighbors  - at atom 2 ignored\n",
            "[13:22:03] Warning: ambiguous stereochemistry - overlapping neighbors  - at atom 3 ignored\n",
            "[13:22:03] Warning: ambiguous stereochemistry - overlapping neighbors  - at atom 4 ignored\n",
            "[13:22:03] Warning: ambiguous stereochemistry - overlapping neighbors  - at atom 1 ignored\n",
            "[13:22:03] Warning: ambiguous stereochemistry - overlapping neighbors  - at atom 2 ignored\n",
            "[13:22:03] Warning: ambiguous stereochemistry - overlapping neighbors  - at atom 3 ignored\n",
            "[13:22:03] Warning: ambiguous stereochemistry - overlapping neighbors  - at atom 4 ignored\n",
            "[13:22:03] Warning: ambiguous stereochemistry - overlapping neighbors  - at atom 1 ignored\n",
            "[13:22:03] Warning: ambiguous stereochemistry - overlapping neighbors  - at atom 2 ignored\n",
            "[13:22:03] Warning: ambiguous stereochemistry - overlapping neighbors  - at atom 3 ignored\n",
            "[13:22:03] Warning: ambiguous stereochemistry - overlapping neighbors  - at atom 4 ignored\n",
            "[13:22:04] Warning: ambiguous stereochemistry - overlapping neighbors  - at atom 10 ignored\n",
            "[13:22:04] Warning: ambiguous stereochemistry - overlapping neighbors  - at atom 10 ignored\n",
            "[13:22:04] Warning: ambiguous stereochemistry - overlapping neighbors  - at atom 13 ignored\n",
            "[13:22:04] Warning: ambiguous stereochemistry - overlapping neighbors  - at atom 13 ignored\n",
            "[13:22:04] Warning: ambiguous stereochemistry - overlapping neighbors  - at atom 13 ignored\n",
            "[13:22:04] Warning: ambiguous stereochemistry - overlapping neighbors  - at atom 14 ignored\n",
            "[13:22:04] Warning: ambiguous stereochemistry - overlapping neighbors  - at atom 14 ignored\n",
            "[13:22:04] Warning: ambiguous stereochemistry - overlapping neighbors  - at atom 14 ignored\n",
            "[13:22:04] Warning: ambiguous stereochemistry - overlapping neighbors  - at atom 14 ignored\n",
            "[13:22:05] Warning: ambiguous stereochemistry - overlapping neighbors  - at atom 24 ignored\n",
            "[13:22:05] Warning: ambiguous stereochemistry - overlapping neighbors  - at atom 24 ignored\n",
            "[13:22:05] Warning: ambiguous stereochemistry - overlapping neighbors  - at atom 24 ignored\n",
            "[13:22:05] Warning: ambiguous stereochemistry - overlapping neighbors  - at atom 24 ignored\n",
            "[13:22:07] Warning: ambiguous stereochemistry - overlapping neighbors  - at atom 12 ignored\n",
            "[13:22:07] Warning: ambiguous stereochemistry - overlapping neighbors  - at atom 12 ignored\n",
            "[13:22:07] Warning: ambiguous stereochemistry - overlapping neighbors  - at atom 12 ignored\n",
            "[13:22:07] Warning: ambiguous stereochemistry - overlapping neighbors  - at atom 12 ignored\n",
            "[13:22:09] Warning: ambiguous stereochemistry - overlapping neighbors  - at atom 24 ignored\n",
            "[13:22:09] Warning: ambiguous stereochemistry - overlapping neighbors  - at atom 24 ignored\n",
            "[13:22:09] Warning: ambiguous stereochemistry - overlapping neighbors  - at atom 24 ignored\n",
            "[13:22:09] Warning: ambiguous stereochemistry - overlapping neighbors  - at atom 7 ignored\n",
            "[13:22:09] Warning: ambiguous stereochemistry - overlapping neighbors  - at atom 7 ignored\n",
            "[13:22:09] Warning: ambiguous stereochemistry - overlapping neighbors  - at atom 5 ignored\n",
            "[13:22:09] Warning: ambiguous stereochemistry - overlapping neighbors  - at atom 5 ignored\n",
            "[13:22:09] Warning: ambiguous stereochemistry - overlapping neighbors  - at atom 5 ignored\n",
            "[13:22:09] Warning: ambiguous stereochemistry - overlapping neighbors  - at atom 19 ignored\n",
            "[13:22:09] Warning: ambiguous stereochemistry - overlapping neighbors  - at atom 19 ignored\n",
            "[13:22:09] Warning: ambiguous stereochemistry - overlapping neighbors  - at atom 19 ignored\n",
            "[13:22:09] Warning: ambiguous stereochemistry - overlapping neighbors  - at atom 19 ignored\n",
            "[13:22:09] Warning: ambiguous stereochemistry - overlapping neighbors  - at atom 23 ignored\n",
            "[13:22:09] Warning: ambiguous stereochemistry - overlapping neighbors  - at atom 23 ignored\n",
            "[13:22:09] Warning: ambiguous stereochemistry - overlapping neighbors  - at atom 23 ignored\n",
            "[13:22:09] Warning: ambiguous stereochemistry - overlapping neighbors  - at atom 23 ignored\n",
            "[13:22:09] Warning: ambiguous stereochemistry - overlapping neighbors  - at atom 31 ignored\n",
            "[13:22:09] Warning: ambiguous stereochemistry - overlapping neighbors  - at atom 31 ignored\n",
            "[13:22:09] Warning: ambiguous stereochemistry - overlapping neighbors  - at atom 26 ignored\n",
            "[13:22:09] Warning: ambiguous stereochemistry - overlapping neighbors  - at atom 26 ignored\n",
            "[13:22:09] Warning: ambiguous stereochemistry - overlapping neighbors  - at atom 26 ignored\n",
            "[13:22:09] Warning: ambiguous stereochemistry - overlapping neighbors  - at atom 7 ignored\n",
            "[13:22:09] Warning: ambiguous stereochemistry - overlapping neighbors  - at atom 8 ignored\n",
            "[13:22:09] Warning: ambiguous stereochemistry - overlapping neighbors  - at atom 7 ignored\n",
            "[13:22:09] Warning: ambiguous stereochemistry - overlapping neighbors  - at atom 8 ignored\n",
            "[13:22:09] Warning: ambiguous stereochemistry - overlapping neighbors  - at atom 7 ignored\n",
            "[13:22:09] Warning: ambiguous stereochemistry - overlapping neighbors  - at atom 8 ignored\n",
            "[13:22:09] Warning: ambiguous stereochemistry - overlapping neighbors  - at atom 6 ignored\n",
            "[13:22:09] Warning: ambiguous stereochemistry - overlapping neighbors  - at atom 7 ignored\n",
            "[13:22:09] Warning: ambiguous stereochemistry - overlapping neighbors  - at atom 6 ignored\n",
            "[13:22:09] Warning: ambiguous stereochemistry - overlapping neighbors  - at atom 7 ignored\n",
            "[13:22:09] Warning: ambiguous stereochemistry - overlapping neighbors  - at atom 6 ignored\n",
            "[13:22:09] Warning: ambiguous stereochemistry - overlapping neighbors  - at atom 7 ignored\n",
            "[13:22:09] Warning: ambiguous stereochemistry - overlapping neighbors  - at atom 6 ignored\n",
            "[13:22:09] Warning: ambiguous stereochemistry - overlapping neighbors  - at atom 7 ignored\n",
            "[13:22:10] Warning: ambiguous stereochemistry - overlapping neighbors  - at atom 13 ignored\n",
            "[13:22:10] Warning: ambiguous stereochemistry - overlapping neighbors  - at atom 13 ignored\n",
            "[13:22:10] Warning: ambiguous stereochemistry - overlapping neighbors  - at atom 13 ignored\n",
            "[13:22:10] Warning: ambiguous stereochemistry - overlapping neighbors  - at atom 13 ignored\n",
            "[13:22:10] Warning: ambiguous stereochemistry - overlapping neighbors  - at atom 10 ignored\n",
            "[13:22:10] Warning: ambiguous stereochemistry - overlapping neighbors  - at atom 11 ignored\n",
            "[13:22:10] Warning: ambiguous stereochemistry - overlapping neighbors  - at atom 10 ignored\n",
            "[13:22:10] Warning: ambiguous stereochemistry - overlapping neighbors  - at atom 11 ignored\n",
            "[13:22:10] Warning: ambiguous stereochemistry - overlapping neighbors  - at atom 10 ignored\n",
            "[13:22:10] Warning: ambiguous stereochemistry - overlapping neighbors  - at atom 10 ignored\n",
            "[13:22:10] Warning: ambiguous stereochemistry - overlapping neighbors  - at atom 11 ignored\n",
            "[13:22:10] Warning: ambiguous stereochemistry - overlapping neighbors  - at atom 10 ignored\n",
            "[13:22:10] Warning: ambiguous stereochemistry - overlapping neighbors  - at atom 10 ignored\n",
            "[13:22:10] Warning: ambiguous stereochemistry - overlapping neighbors  - at atom 10 ignored\n",
            "[13:22:10] Warning: ambiguous stereochemistry - overlapping neighbors  - at atom 10 ignored\n",
            "[13:22:10] Warning: ambiguous stereochemistry - overlapping neighbors  - at atom 10 ignored\n",
            "[13:22:10] Warning: ambiguous stereochemistry - overlapping neighbors  - at atom 12 ignored\n",
            "[13:22:10] Warning: ambiguous stereochemistry - overlapping neighbors  - at atom 12 ignored\n",
            "[13:22:10] Warning: ambiguous stereochemistry - overlapping neighbors  - at atom 12 ignored\n",
            "[13:22:10] Warning: ambiguous stereochemistry - overlapping neighbors  - at atom 12 ignored\n",
            "[13:22:10] Warning: ambiguous stereochemistry - overlapping neighbors  - at atom 11 ignored\n",
            "[13:22:10] Warning: ambiguous stereochemistry - overlapping neighbors  - at atom 11 ignored\n",
            "[13:22:10] Warning: ambiguous stereochemistry - overlapping neighbors  - at atom 11 ignored\n",
            "[13:22:10] Warning: ambiguous stereochemistry - opposing bonds have opposite wedging - at atom 10 ignored.\n",
            "[13:22:10] Warning: ambiguous stereochemistry - opposing bonds have opposite wedging - at atom 11 ignored.\n",
            "[13:22:10] Warning: ambiguous stereochemistry - opposing bonds have opposite wedging - at atom 10 ignored.\n",
            "[13:22:10] Warning: ambiguous stereochemistry - opposing bonds have opposite wedging - at atom 11 ignored.\n",
            "[13:22:10] Warning: ambiguous stereochemistry - opposing bonds have opposite wedging - at atom 10 ignored.\n",
            "[13:22:10] Warning: ambiguous stereochemistry - opposing bonds have opposite wedging - at atom 11 ignored.\n",
            "[13:22:10] Warning: ambiguous stereochemistry - opposing bonds have opposite wedging - at atom 9 ignored.\n",
            "[13:22:10] Warning: ambiguous stereochemistry - opposing bonds have opposite wedging - at atom 12 ignored.\n",
            "[13:22:10] Warning: ambiguous stereochemistry - overlapping neighbors  - at atom 6 ignored\n",
            "[13:22:10] Warning: ambiguous stereochemistry - overlapping neighbors  - at atom 7 ignored\n",
            "[13:22:10] Warning: ambiguous stereochemistry - overlapping neighbors  - at atom 6 ignored\n",
            "[13:22:10] Warning: ambiguous stereochemistry - overlapping neighbors  - at atom 7 ignored\n",
            "[13:22:10] Warning: ambiguous stereochemistry - overlapping neighbors  - at atom 6 ignored\n",
            "[13:22:10] Warning: ambiguous stereochemistry - overlapping neighbors  - at atom 7 ignored\n",
            "[13:22:10] Warning: ambiguous stereochemistry - opposing bonds have opposite wedging - at atom 10 ignored.\n",
            "[13:22:10] Warning: ambiguous stereochemistry - opposing bonds have opposite wedging - at atom 15 ignored.\n",
            "[13:22:10] Warning: ambiguous stereochemistry - opposing bonds have opposite wedging - at atom 9 ignored.\n",
            "[13:22:10] Warning: ambiguous stereochemistry - opposing bonds have opposite wedging - at atom 16 ignored.\n",
            "[13:22:10] Warning: ambiguous stereochemistry - opposing bonds have opposite wedging - at atom 9 ignored.\n",
            "[13:22:10] Warning: ambiguous stereochemistry - opposing bonds have opposite wedging - at atom 16 ignored.\n",
            "[13:22:10] Warning: ambiguous stereochemistry - opposing bonds have opposite wedging - at atom 9 ignored.\n",
            "[13:22:10] Warning: ambiguous stereochemistry - opposing bonds have opposite wedging - at atom 16 ignored.\n",
            "[13:22:10] Warning: ambiguous stereochemistry - overlapping neighbors  - at atom 11 ignored\n",
            "[13:22:10] Warning: ambiguous stereochemistry - overlapping neighbors  - at atom 9 ignored\n",
            "[13:22:10] Warning: ambiguous stereochemistry - overlapping neighbors  - at atom 10 ignored\n",
            "[13:22:10] Warning: ambiguous stereochemistry - overlapping neighbors  - at atom 9 ignored\n",
            "[13:22:10] Warning: ambiguous stereochemistry - overlapping neighbors  - at atom 10 ignored\n",
            "[13:22:10] Warning: ambiguous stereochemistry - overlapping neighbors  - at atom 9 ignored\n",
            "[13:22:10] Warning: ambiguous stereochemistry - overlapping neighbors  - at atom 10 ignored\n",
            "[13:22:10] Warning: ambiguous stereochemistry - overlapping neighbors  - at atom 11 ignored\n",
            "[13:22:10] Warning: ambiguous stereochemistry - overlapping neighbors  - at atom 11 ignored\n",
            "[13:22:10] Warning: ambiguous stereochemistry - overlapping neighbors  - at atom 12 ignored\n",
            "[13:22:10] Warning: ambiguous stereochemistry - overlapping neighbors  - at atom 11 ignored\n",
            "[13:22:11] Warning: ambiguous stereochemistry - overlapping neighbors  - at atom 7 ignored\n",
            "[13:22:11] Warning: ambiguous stereochemistry - overlapping neighbors  - at atom 8 ignored\n",
            "[13:22:11] Warning: ambiguous stereochemistry - overlapping neighbors  - at atom 7 ignored\n",
            "[13:22:11] Warning: ambiguous stereochemistry - overlapping neighbors  - at atom 8 ignored\n",
            "[13:22:11] Warning: ambiguous stereochemistry - overlapping neighbors  - at atom 7 ignored\n",
            "[13:22:11] Warning: ambiguous stereochemistry - overlapping neighbors  - at atom 8 ignored\n",
            "[13:22:11] Warning: ambiguous stereochemistry - overlapping neighbors  - at atom 7 ignored\n",
            "[13:22:11] Warning: ambiguous stereochemistry - overlapping neighbors  - at atom 8 ignored\n",
            "[13:22:11] Warning: ambiguous stereochemistry - opposing bonds have opposite wedging - at atom 9 ignored.\n",
            "[13:22:11] Warning: ambiguous stereochemistry - opposing bonds have opposite wedging - at atom 11 ignored.\n",
            "[13:22:11] Warning: ambiguous stereochemistry - opposing bonds have opposite wedging - at atom 12 ignored.\n",
            "[13:22:11] Warning: ambiguous stereochemistry - opposing bonds have opposite wedging - at atom 9 ignored.\n",
            "[13:22:11] Warning: ambiguous stereochemistry - opposing bonds have opposite wedging - at atom 11 ignored.\n",
            "[13:22:11] Warning: ambiguous stereochemistry - opposing bonds have opposite wedging - at atom 12 ignored.\n",
            "[13:22:11] Warning: ambiguous stereochemistry - opposing bonds have opposite wedging - at atom 9 ignored.\n",
            "[13:22:11] Warning: ambiguous stereochemistry - opposing bonds have opposite wedging - at atom 10 ignored.\n",
            "[13:22:11] Warning: ambiguous stereochemistry - opposing bonds have opposite wedging - at atom 11 ignored.\n",
            "[13:22:11] Warning: ambiguous stereochemistry - opposing bonds have opposite wedging - at atom 9 ignored.\n",
            "[13:22:11] Warning: ambiguous stereochemistry - opposing bonds have opposite wedging - at atom 11 ignored.\n",
            "[13:22:11] Warning: ambiguous stereochemistry - opposing bonds have opposite wedging - at atom 12 ignored.\n",
            "[13:22:12] Warning: ambiguous stereochemistry - overlapping neighbors  - at atom 7 ignored\n",
            "[13:22:12] Warning: ambiguous stereochemistry - overlapping neighbors  - at atom 8 ignored\n",
            "[13:22:12] Warning: ambiguous stereochemistry - overlapping neighbors  - at atom 7 ignored\n",
            "[13:22:12] Warning: ambiguous stereochemistry - overlapping neighbors  - at atom 8 ignored\n",
            "[13:22:12] Warning: ambiguous stereochemistry - overlapping neighbors  - at atom 7 ignored\n",
            "[13:22:12] Warning: ambiguous stereochemistry - overlapping neighbors  - at atom 8 ignored\n",
            "[13:22:12] Warning: ambiguous stereochemistry - overlapping neighbors  - at atom 7 ignored\n",
            "[13:22:12] Warning: ambiguous stereochemistry - overlapping neighbors  - at atom 8 ignored\n",
            "[13:22:12] Warning: ambiguous stereochemistry - overlapping neighbors  - at atom 10 ignored\n",
            "[13:22:12] Warning: ambiguous stereochemistry - overlapping neighbors  - at atom 11 ignored\n",
            "[13:22:12] Warning: ambiguous stereochemistry - overlapping neighbors  - at atom 11 ignored\n",
            "[13:22:12] Warning: ambiguous stereochemistry - overlapping neighbors  - at atom 11 ignored\n",
            "[13:22:12] Warning: ambiguous stereochemistry - overlapping neighbors  - at atom 9 ignored\n",
            "[13:22:12] Warning: ambiguous stereochemistry - overlapping neighbors  - at atom 9 ignored\n",
            "[13:22:12] Warning: ambiguous stereochemistry - overlapping neighbors  - at atom 10 ignored\n",
            "[13:22:12] Warning: ambiguous stereochemistry - overlapping neighbors  - at atom 9 ignored\n",
            "[13:22:12] Warning: ambiguous stereochemistry - overlapping neighbors  - at atom 1 ignored\n",
            "[13:22:12] Warning: ambiguous stereochemistry - overlapping neighbors  - at atom 2 ignored\n",
            "[13:22:12] Warning: ambiguous stereochemistry - overlapping neighbors  - at atom 3 ignored\n",
            "[13:22:12] Warning: ambiguous stereochemistry - overlapping neighbors  - at atom 4 ignored\n",
            "[13:22:12] Warning: ambiguous stereochemistry - overlapping neighbors  - at atom 1 ignored\n",
            "[13:22:12] Warning: ambiguous stereochemistry - overlapping neighbors  - at atom 2 ignored\n",
            "[13:22:12] Warning: ambiguous stereochemistry - overlapping neighbors  - at atom 3 ignored\n",
            "[13:22:12] Warning: ambiguous stereochemistry - overlapping neighbors  - at atom 4 ignored\n",
            "[13:22:12] Warning: ambiguous stereochemistry - overlapping neighbors  - at atom 25 ignored\n",
            "[13:22:12] Warning: ambiguous stereochemistry - overlapping neighbors  - at atom 25 ignored\n",
            "[13:22:12] Warning: ambiguous stereochemistry - overlapping neighbors  - at atom 25 ignored\n",
            "[13:22:12] Warning: ambiguous stereochemistry - overlapping neighbors  - at atom 25 ignored\n",
            "[13:22:13] Warning: ambiguous stereochemistry - overlapping neighbors  - at atom 11 ignored\n",
            "[13:22:16] Warning: ambiguous stereochemistry - overlapping neighbors  - at atom 8 ignored\n",
            "[13:22:16] Warning: ambiguous stereochemistry - overlapping neighbors  - at atom 8 ignored\n",
            "[13:22:16] Warning: ambiguous stereochemistry - overlapping neighbors  - at atom 9 ignored\n",
            "[13:22:16] Warning: ambiguous stereochemistry - overlapping neighbors  - at atom 9 ignored\n",
            "[13:22:16] Warning: ambiguous stereochemistry - overlapping neighbors  - at atom 10 ignored\n",
            "[13:22:16] Warning: ambiguous stereochemistry - overlapping neighbors  - at atom 10 ignored\n",
            "[13:22:16] Warning: ambiguous stereochemistry - overlapping neighbors  - at atom 9 ignored\n",
            "[13:22:16] Warning: ambiguous stereochemistry - overlapping neighbors  - at atom 9 ignored\n",
            "[13:22:33] Warning: ambiguous stereochemistry - overlapping neighbors  - at atom 7 ignored\n",
            "[13:22:33] Warning: ambiguous stereochemistry - overlapping neighbors  - at atom 7 ignored\n",
            "[13:22:34] Warning: ambiguous stereochemistry - overlapping neighbors  - at atom 6 ignored\n",
            "[13:22:34] Warning: ambiguous stereochemistry - overlapping neighbors  - at atom 6 ignored\n",
            "[13:22:34] Warning: ambiguous stereochemistry - overlapping neighbors  - at atom 7 ignored\n",
            "[13:22:34] Warning: ambiguous stereochemistry - overlapping neighbors  - at atom 7 ignored\n",
            "[13:22:34] Warning: ambiguous stereochemistry - overlapping neighbors  - at atom 6 ignored\n",
            "[13:22:34] Warning: ambiguous stereochemistry - overlapping neighbors  - at atom 6 ignored\n",
            "[13:22:34] Warning: ambiguous stereochemistry - overlapping neighbors  - at atom 6 ignored\n",
            "[13:22:34] Warning: ambiguous stereochemistry - overlapping neighbors  - at atom 6 ignored\n",
            "[13:22:34] Warning: ambiguous stereochemistry - overlapping neighbors  - at atom 7 ignored\n",
            "[13:22:34] Warning: ambiguous stereochemistry - overlapping neighbors  - at atom 7 ignored\n",
            "[13:22:34] Warning: ambiguous stereochemistry - overlapping neighbors  - at atom 6 ignored\n",
            "[13:22:34] Warning: ambiguous stereochemistry - overlapping neighbors  - at atom 6 ignored\n",
            "[13:22:40] Warning: ambiguous stereochemistry - overlapping neighbors  - at atom 8 ignored\n",
            "[13:22:40] Warning: ambiguous stereochemistry - overlapping neighbors  - at atom 8 ignored\n",
            "[13:22:40] Warning: ambiguous stereochemistry - overlapping neighbors  - at atom 6 ignored\n",
            "[13:22:40] Warning: ambiguous stereochemistry - overlapping neighbors  - at atom 6 ignored\n",
            "[13:22:40] Warning: ambiguous stereochemistry - overlapping neighbors  - at atom 7 ignored\n",
            "[13:22:40] Warning: ambiguous stereochemistry - overlapping neighbors  - at atom 7 ignored\n",
            "[13:22:40] Warning: ambiguous stereochemistry - overlapping neighbors  - at atom 7 ignored\n",
            "[13:22:40] Warning: ambiguous stereochemistry - overlapping neighbors  - at atom 7 ignored\n",
            "[13:22:40] Warning: ambiguous stereochemistry - overlapping neighbors  - at atom 6 ignored\n",
            "[13:22:40] Warning: ambiguous stereochemistry - overlapping neighbors  - at atom 6 ignored\n",
            "[13:22:40] Warning: ambiguous stereochemistry - overlapping neighbors  - at atom 7 ignored\n",
            "[13:22:40] Warning: ambiguous stereochemistry - overlapping neighbors  - at atom 7 ignored\n",
            "[13:22:41] Warning: ambiguous stereochemistry - overlapping neighbors  - at atom 6 ignored\n",
            "[13:22:41] Warning: ambiguous stereochemistry - overlapping neighbors  - at atom 6 ignored\n",
            "[13:22:41] Warning: ambiguous stereochemistry - overlapping neighbors  - at atom 7 ignored\n",
            "[13:22:41] Warning: ambiguous stereochemistry - overlapping neighbors  - at atom 7 ignored\n",
            "[13:22:41] Warning: ambiguous stereochemistry - overlapping neighbors  - at atom 7 ignored\n",
            "[13:22:41] Warning: ambiguous stereochemistry - overlapping neighbors  - at atom 7 ignored\n",
            "[13:22:41] Warning: ambiguous stereochemistry - overlapping neighbors  - at atom 7 ignored\n",
            "[13:22:41] Warning: ambiguous stereochemistry - overlapping neighbors  - at atom 7 ignored\n",
            "[13:22:41] Warning: ambiguous stereochemistry - overlapping neighbors  - at atom 8 ignored\n",
            "[13:22:41] Warning: ambiguous stereochemistry - overlapping neighbors  - at atom 8 ignored\n",
            "[13:22:41] Warning: ambiguous stereochemistry - overlapping neighbors  - at atom 6 ignored\n",
            "[13:22:41] Warning: ambiguous stereochemistry - overlapping neighbors  - at atom 6 ignored\n",
            "[13:23:46] Warning: ambiguous stereochemistry - overlapping neighbors  - at atom 8 ignored\n",
            "[13:23:46] Warning: ambiguous stereochemistry - overlapping neighbors  - at atom 9 ignored\n",
            "[13:23:46] Warning: ambiguous stereochemistry - overlapping neighbors  - at atom 9 ignored\n",
            "[13:23:47] Warning: ambiguous stereochemistry - overlapping neighbors  - at atom 3 ignored\n",
            "[13:23:47] Warning: ambiguous stereochemistry - overlapping neighbors  - at atom 3 ignored\n",
            "[13:23:47] Warning: ambiguous stereochemistry - overlapping neighbors  - at atom 3 ignored\n",
            "[13:23:47] Warning: ambiguous stereochemistry - overlapping neighbors  - at atom 3 ignored\n",
            "[13:23:47] Warning: ambiguous stereochemistry - overlapping neighbors  - at atom 9 ignored\n",
            "[13:23:47] Warning: ambiguous stereochemistry - overlapping neighbors  - at atom 3 ignored\n",
            "[13:23:47] Warning: ambiguous stereochemistry - overlapping neighbors  - at atom 3 ignored\n",
            "[13:23:47] Warning: ambiguous stereochemistry - overlapping neighbors  - at atom 23 ignored\n",
            "[13:23:49] Warning: ambiguous stereochemistry - overlapping neighbors  - at atom 1 ignored\n",
            "[13:23:49] Warning: ambiguous stereochemistry - overlapping neighbors  - at atom 1 ignored\n",
            "[13:23:50] Warning: ambiguous stereochemistry - overlapping neighbors  - at atom 13 ignored\n",
            "[13:23:50] Warning: ambiguous stereochemistry - overlapping neighbors  - at atom 13 ignored\n",
            "[13:23:50] Warning: ambiguous stereochemistry - overlapping neighbors  - at atom 13 ignored\n",
            "[13:23:50] Warning: ambiguous stereochemistry - overlapping neighbors  - at atom 13 ignored\n",
            "[13:23:51] Warning: ambiguous stereochemistry - overlapping neighbors  - at atom 7 ignored\n",
            "[13:23:51] Warning: ambiguous stereochemistry - overlapping neighbors  - at atom 7 ignored\n",
            "[13:23:51] Warning: ambiguous stereochemistry - overlapping neighbors  - at atom 7 ignored\n",
            "[13:23:51] Warning: ambiguous stereochemistry - overlapping neighbors  - at atom 7 ignored\n",
            "[13:23:52] Warning: ambiguous stereochemistry - overlapping neighbors  - at atom 11 ignored\n",
            "[13:23:52] Warning: ambiguous stereochemistry - overlapping neighbors  - at atom 38 ignored\n",
            "[13:23:52] Warning: ambiguous stereochemistry - overlapping neighbors  - at atom 38 ignored\n",
            "[13:23:52] Warning: ambiguous stereochemistry - overlapping neighbors  - at atom 38 ignored\n",
            "[13:23:52] Warning: ambiguous stereochemistry - overlapping neighbors  - at atom 38 ignored\n",
            "[13:23:53] Warning: ambiguous stereochemistry - overlapping neighbors  - at atom 11 ignored\n",
            "[13:23:54] Warning: ambiguous stereochemistry - overlapping neighbors  - at atom 10 ignored\n",
            "[13:23:54] Warning: ambiguous stereochemistry - overlapping neighbors  - at atom 10 ignored\n",
            "[13:23:55] Warning: ambiguous stereochemistry - overlapping neighbors  - at atom 12 ignored\n",
            "[13:23:55] Warning: ambiguous stereochemistry - overlapping neighbors  - at atom 12 ignored\n",
            "[13:23:55] Warning: ambiguous stereochemistry - overlapping neighbors  - at atom 12 ignored\n",
            "[13:23:55] Warning: ambiguous stereochemistry - overlapping neighbors  - at atom 12 ignored\n",
            "[13:23:56] Warning: ambiguous stereochemistry - overlapping neighbors  - at atom 26 ignored\n",
            "[13:23:56] Warning: ambiguous stereochemistry - overlapping neighbors  - at atom 26 ignored\n",
            "[13:23:58] Warning: ambiguous stereochemistry - overlapping neighbors  - at atom 37 ignored\n",
            "[13:23:58] Warning: ambiguous stereochemistry - overlapping neighbors  - at atom 37 ignored\n",
            "[13:23:58] Warning: ambiguous stereochemistry - overlapping neighbors  - at atom 37 ignored\n",
            "[13:23:58] Warning: ambiguous stereochemistry - overlapping neighbors  - at atom 37 ignored\n",
            "[13:23:59] Warning: ambiguous stereochemistry - overlapping neighbors  - at atom 17 ignored\n",
            "[13:23:59] Warning: ambiguous stereochemistry - overlapping neighbors  - at atom 17 ignored\n",
            "[13:24:00] Warning: ambiguous stereochemistry - overlapping neighbors  - at atom 12 ignored\n",
            "[13:24:00] Warning: ambiguous stereochemistry - overlapping neighbors  - at atom 12 ignored\n",
            "[13:24:00] Warning: ambiguous stereochemistry - overlapping neighbors  - at atom 7 ignored\n",
            "[13:24:00] Warning: ambiguous stereochemistry - overlapping neighbors  - at atom 7 ignored\n",
            "[13:24:00] Warning: ambiguous stereochemistry - overlapping neighbors  - at atom 7 ignored\n",
            "[13:24:00] Warning: ambiguous stereochemistry - overlapping neighbors  - at atom 7 ignored\n",
            "[13:24:00] Warning: ambiguous stereochemistry - overlapping neighbors  - at atom 7 ignored\n",
            "[13:24:00] Warning: ambiguous stereochemistry - overlapping neighbors  - at atom 7 ignored\n",
            "[13:24:00] Warning: ambiguous stereochemistry - overlapping neighbors  - at atom 7 ignored\n",
            "[13:24:00] Warning: ambiguous stereochemistry - overlapping neighbors  - at atom 7 ignored\n",
            "[13:24:05] Warning: ambiguous stereochemistry - overlapping neighbors  - at atom 6 ignored\n",
            "[13:24:05] Warning: ambiguous stereochemistry - overlapping neighbors  - at atom 6 ignored\n",
            "[13:24:05] Warning: ambiguous stereochemistry - overlapping neighbors  - at atom 7 ignored\n",
            "[13:24:05] Warning: ambiguous stereochemistry - overlapping neighbors  - at atom 7 ignored\n",
            "[13:24:05] Warning: ambiguous stereochemistry - overlapping neighbors  - at atom 7 ignored\n",
            "[13:24:05] Warning: ambiguous stereochemistry - overlapping neighbors  - at atom 7 ignored\n",
            "[13:24:05] Warning: ambiguous stereochemistry - overlapping neighbors  - at atom 25 ignored\n",
            "[13:24:09] Warning: ambiguous stereochemistry - overlapping neighbors  - at atom 5 ignored\n",
            "[13:24:09] Warning: ambiguous stereochemistry - overlapping neighbors  - at atom 5 ignored\n",
            "[13:24:10] Warning: ambiguous stereochemistry - overlapping neighbors  - at atom 11 ignored\n",
            "[13:24:10] Warning: ambiguous stereochemistry - overlapping neighbors  - at atom 11 ignored\n",
            "[13:24:10] Warning: ambiguous stereochemistry - overlapping neighbors  - at atom 11 ignored\n",
            "[13:24:10] Warning: ambiguous stereochemistry - overlapping neighbors  - at atom 11 ignored\n",
            "[13:24:11] Warning: ambiguous stereochemistry - overlapping neighbors  - at atom 15 ignored\n",
            "[13:24:11] Warning: ambiguous stereochemistry - overlapping neighbors  - at atom 15 ignored\n",
            "[13:24:11] Warning: ambiguous stereochemistry - overlapping neighbors  - at atom 11 ignored\n",
            "[13:24:11] Warning: ambiguous stereochemistry - overlapping neighbors  - at atom 11 ignored\n",
            "[13:24:11] Warning: ambiguous stereochemistry - overlapping neighbors  - at atom 11 ignored\n",
            "[13:24:11] Warning: ambiguous stereochemistry - overlapping neighbors  - at atom 11 ignored\n",
            "[13:24:11] Warning: ambiguous stereochemistry - overlapping neighbors  - at atom 11 ignored\n",
            "[13:24:11] Warning: ambiguous stereochemistry - overlapping neighbors  - at atom 11 ignored\n",
            "[13:24:14] Warning: ambiguous stereochemistry - overlapping neighbors  - at atom 5 ignored\n",
            "[13:24:14] Warning: ambiguous stereochemistry - overlapping neighbors  - at atom 5 ignored\n",
            "[13:24:15] Warning: ambiguous stereochemistry - overlapping neighbors  - at atom 5 ignored\n",
            "[13:24:15] Warning: ambiguous stereochemistry - overlapping neighbors  - at atom 5 ignored\n",
            "[13:24:15] Warning: ambiguous stereochemistry - overlapping neighbors  - at atom 5 ignored\n",
            "[13:24:15] Warning: ambiguous stereochemistry - overlapping neighbors  - at atom 9 ignored\n",
            "[13:24:15] Warning: ambiguous stereochemistry - overlapping neighbors  - at atom 9 ignored\n",
            "[13:24:15] Warning: ambiguous stereochemistry - overlapping neighbors  - at atom 9 ignored\n",
            "[13:24:15] Warning: ambiguous stereochemistry - overlapping neighbors  - at atom 9 ignored\n",
            "[13:24:16] Warning: ambiguous stereochemistry - overlapping neighbors  - at atom 9 ignored\n",
            "[13:24:16] Warning: ambiguous stereochemistry - overlapping neighbors  - at atom 9 ignored\n",
            "[13:24:16] Warning: ambiguous stereochemistry - overlapping neighbors  - at atom 10 ignored\n",
            "[13:24:16] Warning: ambiguous stereochemistry - overlapping neighbors  - at atom 10 ignored\n",
            "[13:24:16] Warning: ambiguous stereochemistry - overlapping neighbors  - at atom 10 ignored\n",
            "[13:24:16] Warning: ambiguous stereochemistry - overlapping neighbors  - at atom 10 ignored\n",
            "[13:24:16] Warning: ambiguous stereochemistry - overlapping neighbors  - at atom 9 ignored\n",
            "[13:24:16] Warning: ambiguous stereochemistry - overlapping neighbors  - at atom 9 ignored\n",
            "[13:24:16] Warning: ambiguous stereochemistry - overlapping neighbors  - at atom 9 ignored\n",
            "[13:24:16] Warning: ambiguous stereochemistry - overlapping neighbors  - at atom 9 ignored\n",
            "[13:24:17] Warning: ambiguous stereochemistry - overlapping neighbors  - at atom 10 ignored\n",
            "[13:24:17] Warning: ambiguous stereochemistry - overlapping neighbors  - at atom 10 ignored\n",
            "[13:24:17] Warning: ambiguous stereochemistry - overlapping neighbors  - at atom 10 ignored\n",
            "[13:24:17] Warning: ambiguous stereochemistry - overlapping neighbors  - at atom 10 ignored\n",
            "[13:24:18] Warning: ambiguous stereochemistry - overlapping neighbors  - at atom 5 ignored\n",
            "[13:24:18] Warning: ambiguous stereochemistry - overlapping neighbors  - at atom 5 ignored\n",
            "[13:24:21] Warning: ambiguous stereochemistry - overlapping neighbors  - at atom 44 ignored\n",
            "[13:24:21] Warning: ambiguous stereochemistry - overlapping neighbors  - at atom 23 ignored\n",
            "[13:24:21] Warning: ambiguous stereochemistry - overlapping neighbors  - at atom 23 ignored\n",
            "[13:24:21] Warning: ambiguous stereochemistry - overlapping neighbors  - at atom 23 ignored\n",
            "[13:24:22] Warning: ambiguous stereochemistry - overlapping neighbors  - at atom 13 ignored\n",
            "[13:24:22] Warning: ambiguous stereochemistry - overlapping neighbors  - at atom 13 ignored\n",
            "[13:24:22] Warning: ambiguous stereochemistry - overlapping neighbors  - at atom 7 ignored\n",
            "[13:24:22] Warning: ambiguous stereochemistry - overlapping neighbors  - at atom 7 ignored\n",
            "[13:24:24] Warning: ambiguous stereochemistry - overlapping neighbors  - at atom 6 ignored\n",
            "[13:24:24] Warning: ambiguous stereochemistry - overlapping neighbors  - at atom 6 ignored\n",
            "[13:24:30] Warning: ambiguous stereochemistry - overlapping neighbors  - at atom 14 ignored\n",
            "[13:24:30] Warning: ambiguous stereochemistry - overlapping neighbors  - at atom 14 ignored\n",
            "[13:24:33] Warning: ambiguous stereochemistry - overlapping neighbors  - at atom 12 ignored\n",
            "[13:24:33] Warning: ambiguous stereochemistry - overlapping neighbors  - at atom 12 ignored\n",
            "[13:24:35] Warning: ambiguous stereochemistry - overlapping neighbors  - at atom 7 ignored\n",
            "[13:24:35] Warning: ambiguous stereochemistry - overlapping neighbors  - at atom 7 ignored\n",
            "[13:24:36] Warning: ambiguous stereochemistry - overlapping neighbors  - at atom 10 ignored\n",
            "[13:24:36] Warning: ambiguous stereochemistry - overlapping neighbors  - at atom 10 ignored\n",
            "[13:24:44] Warning: ambiguous stereochemistry - overlapping neighbors  - at atom 20 ignored\n",
            "[13:24:44] Warning: ambiguous stereochemistry - overlapping neighbors  - at atom 20 ignored\n",
            "[13:24:45] Warning: ambiguous stereochemistry - overlapping neighbors  - at atom 29 ignored\n",
            "[13:24:45] Warning: ambiguous stereochemistry - overlapping neighbors  - at atom 44 ignored\n",
            "[13:24:45] Warning: ambiguous stereochemistry - overlapping neighbors  - at atom 44 ignored\n",
            "[13:24:46] Warning: ambiguous stereochemistry - overlapping neighbors  - at atom 50 ignored\n",
            "[13:24:46] Warning: ambiguous stereochemistry - overlapping neighbors  - at atom 50 ignored\n",
            "[13:24:46] Warning: ambiguous stereochemistry - overlapping neighbors  - at atom 50 ignored\n",
            "[13:24:46] Warning: ambiguous stereochemistry - overlapping neighbors  - at atom 50 ignored\n",
            "[13:24:48] Warning: ambiguous stereochemistry - overlapping neighbors  - at atom 9 ignored\n",
            "[13:24:48] Warning: ambiguous stereochemistry - overlapping neighbors  - at atom 16 ignored\n",
            "[13:24:49] Warning: ambiguous stereochemistry - overlapping neighbors  - at atom 9 ignored\n",
            "[13:24:49] Warning: ambiguous stereochemistry - overlapping neighbors  - at atom 10 ignored\n",
            "[13:24:49] Warning: ambiguous stereochemistry - overlapping neighbors  - at atom 41 ignored\n",
            "[13:24:49] Warning: ambiguous stereochemistry - overlapping neighbors  - at atom 41 ignored\n",
            "[13:24:49] Warning: ambiguous stereochemistry - overlapping neighbors  - at atom 41 ignored\n",
            "[13:24:49] Warning: ambiguous stereochemistry - overlapping neighbors  - at atom 41 ignored\n",
            "[13:24:49] Warning: ambiguous stereochemistry - overlapping neighbors  - at atom 5 ignored\n",
            "[13:24:50] Warning: ambiguous stereochemistry - overlapping neighbors  - at atom 15 ignored\n",
            "[13:24:50] Warning: ambiguous stereochemistry - overlapping neighbors  - at atom 6 ignored\n",
            "[13:24:50] Warning: ambiguous stereochemistry - overlapping neighbors  - at atom 5 ignored\n",
            "[13:24:51] Warning: ambiguous stereochemistry - overlapping neighbors  - at atom 36 ignored\n",
            "[13:24:51] Warning: ambiguous stereochemistry - overlapping neighbors  - at atom 2 ignored\n",
            "[13:24:51] Warning: ambiguous stereochemistry - overlapping neighbors  - at atom 2 ignored\n",
            "[13:24:51] Warning: ambiguous stereochemistry - overlapping neighbors  - at atom 2 ignored\n",
            "[13:24:51] Warning: ambiguous stereochemistry - overlapping neighbors  - at atom 2 ignored\n",
            "[13:24:51] Warning: ambiguous stereochemistry - overlapping neighbors  - at atom 7 ignored\n",
            "[13:24:51] Warning: ambiguous stereochemistry - overlapping neighbors  - at atom 8 ignored\n",
            "[13:24:51] Warning: ambiguous stereochemistry - overlapping neighbors  - at atom 8 ignored\n",
            "[13:24:51] Warning: ambiguous stereochemistry - overlapping neighbors  - at atom 8 ignored\n",
            "[13:24:51] Warning: ambiguous stereochemistry - overlapping neighbors  - at atom 9 ignored\n",
            "[13:24:51] Warning: ambiguous stereochemistry - overlapping neighbors  - at atom 8 ignored\n",
            "[13:24:51] Warning: ambiguous stereochemistry - overlapping neighbors  - at atom 7 ignored\n",
            "[13:24:51] Warning: ambiguous stereochemistry - overlapping neighbors  - at atom 7 ignored\n",
            "[13:24:51] Warning: ambiguous stereochemistry - overlapping neighbors  - at atom 7 ignored\n",
            "[13:24:51] Warning: ambiguous stereochemistry - overlapping neighbors  - at atom 9 ignored\n",
            "[13:24:52] Warning: ambiguous stereochemistry - overlapping neighbors  - at atom 8 ignored\n",
            "[13:24:52] Warning: ambiguous stereochemistry - overlapping neighbors  - at atom 7 ignored\n",
            "[13:24:52] Warning: ambiguous stereochemistry - overlapping neighbors  - at atom 6 ignored\n",
            "[13:24:52] Warning: ambiguous stereochemistry - overlapping neighbors  - at atom 8 ignored\n",
            "[13:24:52] Warning: ambiguous stereochemistry - overlapping neighbors  - at atom 7 ignored\n",
            "[13:24:52] Warning: ambiguous stereochemistry - overlapping neighbors  - at atom 8 ignored\n",
            "[13:24:52] Warning: ambiguous stereochemistry - overlapping neighbors  - at atom 7 ignored\n",
            "[13:24:52] Warning: ambiguous stereochemistry - overlapping neighbors  - at atom 7 ignored\n",
            "[13:24:52] Warning: ambiguous stereochemistry - overlapping neighbors  - at atom 7 ignored\n",
            "[13:24:52] Warning: ambiguous stereochemistry - overlapping neighbors  - at atom 11 ignored\n",
            "[13:24:52] Warning: ambiguous stereochemistry - overlapping neighbors  - at atom 8 ignored\n",
            "[13:24:52] Warning: ambiguous stereochemistry - overlapping neighbors  - at atom 6 ignored\n",
            "[13:24:54] Warning: ambiguous stereochemistry - overlapping neighbors  - at atom 7 ignored\n",
            "[13:24:54] Warning: ambiguous stereochemistry - overlapping neighbors  - at atom 7 ignored\n",
            "[13:24:54] Warning: ambiguous stereochemistry - overlapping neighbors  - at atom 7 ignored\n",
            "[13:24:54] Warning: ambiguous stereochemistry - overlapping neighbors  - at atom 7 ignored\n",
            "[13:24:55] Warning: ambiguous stereochemistry - overlapping neighbors  - at atom 7 ignored\n",
            "[13:24:55] Warning: ambiguous stereochemistry - overlapping neighbors  - at atom 7 ignored\n",
            "[13:24:55] Warning: ambiguous stereochemistry - overlapping neighbors  - at atom 7 ignored\n",
            "[13:24:55] Warning: ambiguous stereochemistry - overlapping neighbors  - at atom 7 ignored\n",
            "[13:24:55] Warning: ambiguous stereochemistry - overlapping neighbors  - at atom 5 ignored\n",
            "[13:24:56] Warning: ambiguous stereochemistry - overlapping neighbors  - at atom 7 ignored\n",
            "[13:24:56] Warning: ambiguous stereochemistry - overlapping neighbors  - at atom 7 ignored\n",
            "[13:24:56] Warning: ambiguous stereochemistry - zero final chiral volume - at atom 0 ignored\n",
            "[13:24:56] Warning: ambiguous stereochemistry - zero final chiral volume - at atom 0 ignored\n",
            "[13:24:58] Warning: ambiguous stereochemistry - overlapping neighbors  - at atom 9 ignored\n",
            "[13:24:58] Warning: ambiguous stereochemistry - overlapping neighbors  - at atom 9 ignored\n",
            "[13:24:58] Warning: ambiguous stereochemistry - overlapping neighbors  - at atom 9 ignored\n",
            "[13:24:58] Warning: ambiguous stereochemistry - overlapping neighbors  - at atom 9 ignored\n",
            "[13:24:58] Warning: ambiguous stereochemistry - overlapping neighbors  - at atom 9 ignored\n",
            "[13:24:58] Warning: ambiguous stereochemistry - overlapping neighbors  - at atom 9 ignored\n",
            "[13:24:58] Warning: ambiguous stereochemistry - overlapping neighbors  - at atom 9 ignored\n",
            "[13:24:58] Warning: ambiguous stereochemistry - overlapping neighbors  - at atom 9 ignored\n",
            "[13:24:59] Warning: ambiguous stereochemistry - overlapping neighbors  - at atom 10 ignored\n",
            "[13:24:59] Warning: ambiguous stereochemistry - overlapping neighbors  - at atom 10 ignored\n",
            "[13:24:59] Warning: ambiguous stereochemistry - overlapping neighbors  - at atom 10 ignored\n",
            "[13:24:59] Warning: ambiguous stereochemistry - overlapping neighbors  - at atom 10 ignored\n",
            "[13:24:59] Warning: ambiguous stereochemistry - overlapping neighbors  - at atom 6 ignored\n",
            "[13:24:59] Warning: ambiguous stereochemistry - overlapping neighbors  - at atom 6 ignored\n",
            "[13:24:59] Warning: ambiguous stereochemistry - overlapping neighbors  - at atom 6 ignored\n",
            "[13:25:00] Warning: ambiguous stereochemistry - overlapping neighbors  - at atom 21 ignored\n",
            "[13:25:01] Warning: ambiguous stereochemistry - overlapping neighbors  - at atom 6 ignored\n",
            "[13:25:03] Warning: ambiguous stereochemistry - overlapping neighbors  - at atom 10 ignored\n",
            "[13:25:03] Warning: ambiguous stereochemistry - overlapping neighbors  - at atom 10 ignored\n",
            "[13:25:03] Warning: ambiguous stereochemistry - overlapping neighbors  - at atom 10 ignored\n",
            "[13:25:03] Warning: ambiguous stereochemistry - overlapping neighbors  - at atom 10 ignored\n",
            "[13:25:03] Warning: ambiguous stereochemistry - overlapping neighbors  - at atom 10 ignored\n",
            "[13:25:03] Warning: ambiguous stereochemistry - overlapping neighbors  - at atom 10 ignored\n",
            "[13:25:05] Warning: ambiguous stereochemistry - overlapping neighbors  - at atom 21 ignored\n",
            "[13:25:07] Warning: ambiguous stereochemistry - overlapping neighbors  - at atom 7 ignored\n",
            "[13:25:07] Warning: ambiguous stereochemistry - overlapping neighbors  - at atom 7 ignored\n",
            "[13:25:07] Warning: ambiguous stereochemistry - overlapping neighbors  - at atom 7 ignored\n",
            "[13:25:08] Warning: ambiguous stereochemistry - overlapping neighbors  - at atom 8 ignored\n",
            "[13:25:08] Warning: ambiguous stereochemistry - overlapping neighbors  - at atom 8 ignored\n",
            "[13:25:08] Warning: ambiguous stereochemistry - overlapping neighbors  - at atom 14 ignored\n",
            "[13:25:08] Warning: ambiguous stereochemistry - overlapping neighbors  - at atom 14 ignored\n",
            "[13:25:10] Warning: ambiguous stereochemistry - overlapping neighbors  - at atom 7 ignored\n",
            "[13:25:10] Warning: ambiguous stereochemistry - overlapping neighbors  - at atom 7 ignored\n",
            "[13:25:11] Warning: ambiguous stereochemistry - overlapping neighbors  - at atom 6 ignored\n",
            "[13:25:11] Warning: ambiguous stereochemistry - overlapping neighbors  - at atom 6 ignored\n",
            "[13:25:11] Warning: ambiguous stereochemistry - overlapping neighbors  - at atom 6 ignored\n",
            "[13:25:11] Warning: ambiguous stereochemistry - overlapping neighbors  - at atom 6 ignored\n",
            "[13:25:11] Warning: ambiguous stereochemistry - overlapping neighbors  - at atom 7 ignored\n",
            "[13:25:11] Warning: ambiguous stereochemistry - overlapping neighbors  - at atom 7 ignored\n",
            "[13:25:12] Warning: ambiguous stereochemistry - overlapping neighbors  - at atom 16 ignored\n",
            "[13:25:12] Warning: ambiguous stereochemistry - overlapping neighbors  - at atom 16 ignored\n",
            "[13:25:13] Warning: ambiguous stereochemistry - overlapping neighbors  - at atom 6 ignored\n",
            "[13:25:13] Warning: ambiguous stereochemistry - overlapping neighbors  - at atom 6 ignored\n",
            "[13:25:15] Warning: ambiguous stereochemistry - overlapping neighbors  - at atom 6 ignored\n",
            "[13:25:15] Warning: ambiguous stereochemistry - overlapping neighbors  - at atom 6 ignored\n",
            "[13:25:16] Warning: ambiguous stereochemistry - overlapping neighbors  - at atom 8 ignored\n",
            "[13:25:16] Warning: ambiguous stereochemistry - overlapping neighbors  - at atom 8 ignored\n",
            "[13:25:18] Warning: ambiguous stereochemistry - overlapping neighbors  - at atom 11 ignored\n",
            "[13:25:18] Warning: ambiguous stereochemistry - overlapping neighbors  - at atom 11 ignored\n",
            "[13:25:20] Warning: ambiguous stereochemistry - overlapping neighbors  - at atom 5 ignored\n",
            "[13:25:20] Warning: ambiguous stereochemistry - overlapping neighbors  - at atom 5 ignored\n",
            "[13:25:21] Warning: ambiguous stereochemistry - overlapping neighbors  - at atom 12 ignored\n",
            "[13:25:21] Warning: ambiguous stereochemistry - overlapping neighbors  - at atom 12 ignored\n",
            "[13:25:21] Warning: ambiguous stereochemistry - overlapping neighbors  - at atom 4 ignored\n",
            "[13:25:21] Warning: ambiguous stereochemistry - overlapping neighbors  - at atom 4 ignored\n",
            "[13:25:22] Warning: ambiguous stereochemistry - overlapping neighbors  - at atom 11 ignored\n",
            "[13:25:22] Warning: ambiguous stereochemistry - overlapping neighbors  - at atom 11 ignored\n",
            "[13:25:22] Warning: ambiguous stereochemistry - overlapping neighbors  - at atom 10 ignored\n",
            "[13:25:22] Warning: ambiguous stereochemistry - overlapping neighbors  - at atom 10 ignored\n",
            "[13:25:23] Warning: ambiguous stereochemistry - overlapping neighbors  - at atom 2 ignored\n",
            "[13:25:23] Warning: ambiguous stereochemistry - overlapping neighbors  - at atom 2 ignored\n",
            "[13:25:23] Warning: ambiguous stereochemistry - overlapping neighbors  - at atom 2 ignored\n",
            "[13:25:23] Warning: ambiguous stereochemistry - overlapping neighbors  - at atom 2 ignored\n",
            "[13:25:23] Warning: ambiguous stereochemistry - overlapping neighbors  - at atom 11 ignored\n",
            "[13:25:23] Warning: ambiguous stereochemistry - overlapping neighbors  - at atom 11 ignored\n",
            "[13:25:28] Warning: ambiguous stereochemistry - overlapping neighbors  - at atom 6 ignored\n",
            "[13:25:28] Warning: ambiguous stereochemistry - overlapping neighbors  - at atom 7 ignored\n",
            "[13:25:28] Warning: ambiguous stereochemistry - overlapping neighbors  - at atom 6 ignored\n",
            "[13:25:28] Warning: ambiguous stereochemistry - overlapping neighbors  - at atom 7 ignored\n",
            "[13:25:28] Warning: ambiguous stereochemistry - overlapping neighbors  - at atom 6 ignored\n",
            "[13:25:28] Warning: ambiguous stereochemistry - overlapping neighbors  - at atom 7 ignored\n",
            "[13:25:30] Warning: ambiguous stereochemistry - overlapping neighbors  - at atom 46 ignored\n",
            "[13:25:30] Warning: ambiguous stereochemistry - overlapping neighbors  - at atom 25 ignored\n",
            "[13:25:30] Warning: ambiguous stereochemistry - overlapping neighbors  - at atom 3 ignored\n",
            "[13:25:30] Warning: ambiguous stereochemistry - overlapping neighbors  - at atom 3 ignored\n",
            "[13:25:30] Warning: ambiguous stereochemistry - overlapping neighbors  - at atom 3 ignored\n",
            "[13:25:30] Warning: ambiguous stereochemistry - overlapping neighbors  - at atom 3 ignored\n",
            "[13:25:30] Warning: ambiguous stereochemistry - overlapping neighbors  - at atom 30 ignored\n",
            "[13:25:30] Warning: ambiguous stereochemistry - overlapping neighbors  - at atom 30 ignored\n",
            "[13:25:30] Warning: ambiguous stereochemistry - overlapping neighbors  - at atom 31 ignored\n",
            "[13:25:30] Warning: ambiguous stereochemistry - overlapping neighbors  - at atom 31 ignored\n",
            "[13:25:31] Warning: ambiguous stereochemistry - overlapping neighbors  - at atom 2 ignored\n",
            "[13:25:31] Warning: ambiguous stereochemistry - overlapping neighbors  - at atom 2 ignored\n",
            "[13:25:31] Warning: ambiguous stereochemistry - overlapping neighbors  - at atom 2 ignored\n",
            "[13:25:31] Warning: ambiguous stereochemistry - overlapping neighbors  - at atom 2 ignored\n",
            "[13:25:32] Warning: ambiguous stereochemistry - overlapping neighbors  - at atom 2 ignored\n",
            "[13:25:32] Warning: ambiguous stereochemistry - overlapping neighbors  - at atom 2 ignored\n",
            "[13:25:32] Warning: ambiguous stereochemistry - overlapping neighbors  - at atom 2 ignored\n",
            "[13:25:32] Warning: ambiguous stereochemistry - overlapping neighbors  - at atom 2 ignored\n",
            "[13:25:32] Warning: ambiguous stereochemistry - overlapping neighbors  - at atom 2 ignored\n",
            "[13:25:32] Warning: ambiguous stereochemistry - overlapping neighbors  - at atom 2 ignored\n",
            "[13:25:34] Warning: ambiguous stereochemistry - overlapping neighbors  - at atom 5 ignored\n",
            "[13:25:34] Warning: ambiguous stereochemistry - overlapping neighbors  - at atom 5 ignored\n",
            "[13:25:34] Warning: ambiguous stereochemistry - overlapping neighbors  - at atom 2 ignored\n",
            "[13:25:34] Warning: ambiguous stereochemistry - overlapping neighbors  - at atom 2 ignored\n",
            "[13:25:34] Warning: ambiguous stereochemistry - overlapping neighbors  - at atom 2 ignored\n",
            "[13:25:34] Warning: ambiguous stereochemistry - overlapping neighbors  - at atom 2 ignored\n",
            "[13:25:34] Warning: ambiguous stereochemistry - overlapping neighbors  - at atom 2 ignored\n",
            "[13:25:34] Warning: ambiguous stereochemistry - overlapping neighbors  - at atom 2 ignored\n",
            "[13:25:34] Warning: ambiguous stereochemistry - overlapping neighbors  - at atom 2 ignored\n",
            "[13:25:34] Warning: ambiguous stereochemistry - overlapping neighbors  - at atom 2 ignored\n",
            "[13:25:34] Warning: ambiguous stereochemistry - overlapping neighbors  - at atom 3 ignored\n",
            "[13:25:34] Warning: ambiguous stereochemistry - overlapping neighbors  - at atom 3 ignored\n",
            "[13:25:34] Warning: ambiguous stereochemistry - overlapping neighbors  - at atom 2 ignored\n",
            "[13:25:34] Warning: ambiguous stereochemistry - overlapping neighbors  - at atom 2 ignored\n",
            "[13:25:34] Warning: ambiguous stereochemistry - overlapping neighbors  - at atom 2 ignored\n",
            "[13:25:34] Warning: ambiguous stereochemistry - overlapping neighbors  - at atom 2 ignored\n",
            "[13:25:34] Warning: ambiguous stereochemistry - overlapping neighbors  - at atom 5 ignored\n",
            "[13:25:34] Warning: ambiguous stereochemistry - overlapping neighbors  - at atom 5 ignored\n",
            "[13:25:34] Warning: ambiguous stereochemistry - overlapping neighbors  - at atom 3 ignored\n",
            "[13:25:34] Warning: ambiguous stereochemistry - overlapping neighbors  - at atom 3 ignored\n",
            "[13:25:34] Warning: ambiguous stereochemistry - overlapping neighbors  - at atom 3 ignored\n",
            "[13:25:34] Warning: ambiguous stereochemistry - overlapping neighbors  - at atom 3 ignored\n",
            "[13:25:35] Warning: ambiguous stereochemistry - overlapping neighbors  - at atom 3 ignored\n",
            "[13:25:35] Warning: ambiguous stereochemistry - overlapping neighbors  - at atom 3 ignored\n",
            "[13:25:35] Warning: ambiguous stereochemistry - overlapping neighbors  - at atom 4 ignored\n",
            "[13:25:35] Warning: ambiguous stereochemistry - overlapping neighbors  - at atom 4 ignored\n",
            "[13:25:35] Warning: ambiguous stereochemistry - overlapping neighbors  - at atom 4 ignored\n",
            "[13:25:35] Warning: ambiguous stereochemistry - overlapping neighbors  - at atom 4 ignored\n",
            "[13:25:35] Warning: ambiguous stereochemistry - overlapping neighbors  - at atom 4 ignored\n",
            "[13:25:35] Warning: ambiguous stereochemistry - overlapping neighbors  - at atom 4 ignored\n",
            "[13:25:35] Warning: ambiguous stereochemistry - overlapping neighbors  - at atom 4 ignored\n",
            "[13:25:35] Warning: ambiguous stereochemistry - overlapping neighbors  - at atom 4 ignored\n",
            "[13:25:35] Warning: ambiguous stereochemistry - overlapping neighbors  - at atom 4 ignored\n",
            "[13:25:35] Warning: ambiguous stereochemistry - overlapping neighbors  - at atom 4 ignored\n",
            "[13:25:35] Warning: ambiguous stereochemistry - overlapping neighbors  - at atom 10 ignored\n",
            "[13:25:35] Warning: ambiguous stereochemistry - overlapping neighbors  - at atom 10 ignored\n",
            "[13:25:35] Warning: ambiguous stereochemistry - overlapping neighbors  - at atom 10 ignored\n",
            "[13:25:35] Warning: ambiguous stereochemistry - overlapping neighbors  - at atom 10 ignored\n",
            "[13:25:35] Warning: ambiguous stereochemistry - overlapping neighbors  - at atom 7 ignored\n",
            "[13:25:35] Warning: ambiguous stereochemistry - overlapping neighbors  - at atom 7 ignored\n",
            "[13:25:36] Warning: ambiguous stereochemistry - overlapping neighbors  - at atom 9 ignored\n",
            "[13:25:36] Warning: ambiguous stereochemistry - overlapping neighbors  - at atom 9 ignored\n",
            "[13:25:36] Warning: ambiguous stereochemistry - overlapping neighbors  - at atom 3 ignored\n",
            "[13:25:36] Warning: ambiguous stereochemistry - overlapping neighbors  - at atom 3 ignored\n",
            "[13:25:36] Warning: ambiguous stereochemistry - overlapping neighbors  - at atom 4 ignored\n",
            "[13:25:36] Warning: ambiguous stereochemistry - overlapping neighbors  - at atom 4 ignored\n",
            "[13:25:36] Warning: ambiguous stereochemistry - overlapping neighbors  - at atom 18 ignored\n",
            "[13:25:36] Warning: ambiguous stereochemistry - overlapping neighbors  - at atom 18 ignored\n",
            "[13:25:36] Warning: ambiguous stereochemistry - overlapping neighbors  - at atom 18 ignored\n",
            "[13:25:36] Warning: ambiguous stereochemistry - overlapping neighbors  - at atom 18 ignored\n",
            "[13:25:37] Warning: ambiguous stereochemistry - overlapping neighbors  - at atom 4 ignored\n",
            "[13:25:37] Warning: ambiguous stereochemistry - overlapping neighbors  - at atom 4 ignored\n",
            "[13:25:37] Warning: ambiguous stereochemistry - overlapping neighbors  - at atom 5 ignored\n",
            "[13:25:37] Warning: ambiguous stereochemistry - overlapping neighbors  - at atom 5 ignored\n",
            "[13:25:37] Warning: ambiguous stereochemistry - overlapping neighbors  - at atom 2 ignored\n",
            "[13:25:37] Warning: ambiguous stereochemistry - overlapping neighbors  - at atom 2 ignored\n",
            "[13:25:37] Warning: ambiguous stereochemistry - overlapping neighbors  - at atom 4 ignored\n",
            "[13:25:37] Warning: ambiguous stereochemistry - overlapping neighbors  - at atom 4 ignored\n",
            "[13:25:37] Warning: ambiguous stereochemistry - overlapping neighbors  - at atom 3 ignored\n",
            "[13:25:37] Warning: ambiguous stereochemistry - overlapping neighbors  - at atom 3 ignored\n",
            "[13:25:37] Warning: ambiguous stereochemistry - overlapping neighbors  - at atom 4 ignored\n",
            "[13:25:37] Warning: ambiguous stereochemistry - overlapping neighbors  - at atom 4 ignored\n",
            "[13:25:38] Warning: ambiguous stereochemistry - overlapping neighbors  - at atom 3 ignored\n",
            "[13:25:38] Warning: ambiguous stereochemistry - overlapping neighbors  - at atom 3 ignored\n",
            "[13:25:38] Warning: ambiguous stereochemistry - overlapping neighbors  - at atom 8 ignored\n",
            "[13:25:38] Warning: ambiguous stereochemistry - overlapping neighbors  - at atom 8 ignored\n",
            "[13:25:39] Warning: ambiguous stereochemistry - overlapping neighbors  - at atom 3 ignored\n",
            "[13:25:39] Warning: ambiguous stereochemistry - overlapping neighbors  - at atom 9 ignored\n",
            "[13:25:39] Warning: ambiguous stereochemistry - overlapping neighbors  - at atom 9 ignored\n",
            "[13:25:39] Warning: ambiguous stereochemistry - overlapping neighbors  - at atom 9 ignored\n",
            "[13:25:39] Warning: ambiguous stereochemistry - overlapping neighbors  - at atom 9 ignored\n",
            "[13:25:39] Warning: ambiguous stereochemistry - overlapping neighbors  - at atom 4 ignored\n",
            "[13:25:39] Warning: ambiguous stereochemistry - overlapping neighbors  - at atom 7 ignored\n",
            "[13:25:39] Warning: ambiguous stereochemistry - overlapping neighbors  - at atom 3 ignored\n",
            "[13:25:39] Warning: ambiguous stereochemistry - overlapping neighbors  - at atom 3 ignored\n",
            "[13:25:39] Warning: ambiguous stereochemistry - overlapping neighbors  - at atom 3 ignored\n",
            "[13:25:39] Warning: ambiguous stereochemistry - overlapping neighbors  - at atom 3 ignored\n",
            "[13:25:39] Warning: ambiguous stereochemistry - overlapping neighbors  - at atom 2 ignored\n",
            "[13:25:39] Warning: ambiguous stereochemistry - overlapping neighbors  - at atom 2 ignored\n",
            "[13:25:39] Warning: ambiguous stereochemistry - overlapping neighbors  - at atom 2 ignored\n",
            "[13:25:39] Warning: ambiguous stereochemistry - overlapping neighbors  - at atom 2 ignored\n",
            "[13:25:39] Warning: ambiguous stereochemistry - overlapping neighbors  - at atom 1 ignored\n",
            "[13:25:40] Warning: ambiguous stereochemistry - overlapping neighbors  - at atom 2 ignored\n",
            "[13:25:40] Warning: ambiguous stereochemistry - overlapping neighbors  - at atom 2 ignored\n",
            "[13:25:41] Warning: ambiguous stereochemistry - overlapping neighbors  - at atom 4 ignored\n",
            "[13:25:41] Warning: ambiguous stereochemistry - overlapping neighbors  - at atom 4 ignored\n",
            "[13:25:41] Warning: ambiguous stereochemistry - overlapping neighbors  - at atom 4 ignored\n",
            "[13:25:41] Warning: ambiguous stereochemistry - overlapping neighbors  - at atom 4 ignored\n",
            "[13:25:41] Warning: ambiguous stereochemistry - overlapping neighbors  - at atom 6 ignored\n",
            "[13:25:41] Warning: ambiguous stereochemistry - overlapping neighbors  - at atom 6 ignored\n",
            "[13:25:41] Warning: ambiguous stereochemistry - overlapping neighbors  - at atom 4 ignored\n",
            "[13:25:41] Warning: ambiguous stereochemistry - overlapping neighbors  - at atom 4 ignored\n",
            "[13:25:41] Warning: ambiguous stereochemistry - overlapping neighbors  - at atom 12 ignored\n",
            "[13:25:41] Warning: ambiguous stereochemistry - overlapping neighbors  - at atom 12 ignored\n",
            "[13:25:41] Warning: ambiguous stereochemistry - overlapping neighbors  - at atom 3 ignored\n",
            "[13:25:41] Warning: ambiguous stereochemistry - overlapping neighbors  - at atom 3 ignored\n",
            "[13:25:42] Warning: ambiguous stereochemistry - overlapping neighbors  - at atom 12 ignored\n",
            "[13:25:42] Warning: ambiguous stereochemistry - overlapping neighbors  - at atom 12 ignored\n",
            "[13:25:42] Warning: ambiguous stereochemistry - overlapping neighbors  - at atom 12 ignored\n",
            "[13:25:42] Warning: ambiguous stereochemistry - overlapping neighbors  - at atom 12 ignored\n",
            "[13:25:42] Warning: ambiguous stereochemistry - overlapping neighbors  - at atom 13 ignored\n",
            "[13:25:42] Warning: ambiguous stereochemistry - overlapping neighbors  - at atom 13 ignored\n",
            "[13:25:42] Warning: ambiguous stereochemistry - overlapping neighbors  - at atom 13 ignored\n",
            "[13:25:42] Warning: ambiguous stereochemistry - overlapping neighbors  - at atom 13 ignored\n",
            "[13:25:42] Warning: ambiguous stereochemistry - overlapping neighbors  - at atom 4 ignored\n",
            "[13:25:42] Warning: ambiguous stereochemistry - overlapping neighbors  - at atom 4 ignored\n",
            "[13:25:43] Warning: ambiguous stereochemistry - overlapping neighbors  - at atom 3 ignored\n",
            "[13:25:43] Warning: ambiguous stereochemistry - overlapping neighbors  - at atom 3 ignored\n",
            "[13:25:43] Warning: ambiguous stereochemistry - overlapping neighbors  - at atom 3 ignored\n",
            "[13:25:43] Warning: ambiguous stereochemistry - overlapping neighbors  - at atom 3 ignored\n",
            "[13:25:43] Warning: ambiguous stereochemistry - overlapping neighbors  - at atom 5 ignored\n",
            "[13:25:43] Warning: ambiguous stereochemistry - overlapping neighbors  - at atom 5 ignored\n",
            "[13:25:44] Warning: ambiguous stereochemistry - overlapping neighbors  - at atom 9 ignored\n",
            "[13:25:44] Warning: ambiguous stereochemistry - overlapping neighbors  - at atom 9 ignored\n",
            "[13:25:45] Warning: ambiguous stereochemistry - overlapping neighbors  - at atom 5 ignored\n",
            "[13:25:45] Warning: ambiguous stereochemistry - overlapping neighbors  - at atom 5 ignored\n",
            "[13:25:45] Warning: ambiguous stereochemistry - overlapping neighbors  - at atom 5 ignored\n",
            "[13:25:45] Warning: ambiguous stereochemistry - overlapping neighbors  - at atom 5 ignored\n",
            "[13:25:45] Warning: ambiguous stereochemistry - overlapping neighbors  - at atom 20 ignored\n",
            "[13:25:45] Warning: ambiguous stereochemistry - overlapping neighbors  - at atom 20 ignored\n",
            "[13:25:47] Warning: ambiguous stereochemistry - overlapping neighbors  - at atom 4 ignored\n",
            "[13:25:47] Warning: ambiguous stereochemistry - overlapping neighbors  - at atom 4 ignored\n",
            "[13:25:47] Warning: ambiguous stereochemistry - overlapping neighbors  - at atom 4 ignored\n",
            "[13:25:47] Warning: ambiguous stereochemistry - overlapping neighbors  - at atom 4 ignored\n",
            "[13:25:48] Warning: ambiguous stereochemistry - overlapping neighbors  - at atom 11 ignored\n",
            "[13:25:48] Warning: ambiguous stereochemistry - overlapping neighbors  - at atom 11 ignored\n",
            "[13:25:50] Warning: ambiguous stereochemistry - overlapping neighbors  - at atom 9 ignored\n",
            "[13:25:50] Warning: ambiguous stereochemistry - overlapping neighbors  - at atom 7 ignored\n",
            "[13:25:50] Warning: ambiguous stereochemistry - overlapping neighbors  - at atom 7 ignored\n",
            "[13:25:52] Warning: ambiguous stereochemistry - overlapping neighbors  - at atom 4 ignored\n",
            "[13:25:52] Warning: ambiguous stereochemistry - overlapping neighbors  - at atom 4 ignored\n",
            "[13:25:53] Warning: ambiguous stereochemistry - overlapping neighbors  - at atom 5 ignored\n",
            "[13:25:53] Warning: ambiguous stereochemistry - overlapping neighbors  - at atom 5 ignored\n",
            "[13:25:53] Warning: ambiguous stereochemistry - overlapping neighbors  - at atom 5 ignored\n",
            "[13:25:53] Warning: ambiguous stereochemistry - overlapping neighbors  - at atom 5 ignored\n",
            "[13:25:54] Warning: ambiguous stereochemistry - overlapping neighbors  - at atom 7 ignored\n",
            "[13:25:54] Warning: ambiguous stereochemistry - overlapping neighbors  - at atom 7 ignored\n",
            "[13:25:54] Warning: ambiguous stereochemistry - overlapping neighbors  - at atom 5 ignored\n",
            "[13:25:54] Warning: ambiguous stereochemistry - overlapping neighbors  - at atom 5 ignored\n",
            "[13:25:54] Warning: ambiguous stereochemistry - overlapping neighbors  - at atom 8 ignored\n",
            "[13:25:54] Warning: ambiguous stereochemistry - overlapping neighbors  - at atom 8 ignored\n"
          ]
        }
      ]
    },
    {
      "cell_type": "code",
      "source": [
        "df.to_csv('10_april.csv')"
      ],
      "metadata": {
        "id": "MsOqwAgx0gw6"
      },
      "execution_count": null,
      "outputs": []
    }
  ]
}